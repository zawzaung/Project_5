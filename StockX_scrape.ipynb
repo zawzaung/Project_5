{
 "cells": [
  {
   "cell_type": "code",
   "execution_count": null,
   "metadata": {
    "ExecuteTime": {
     "end_time": "2020-02-19T21:22:53.186018Z",
     "start_time": "2020-02-19T21:22:43.973376Z"
    }
   },
   "outputs": [],
   "source": [
    "chromedriver = \"/Applications/chromedriver\" # path to the chromedriver executable\n",
    "os.environ[\"webdriver.chrome.driver\"] = chromedriver\n",
    "\n",
    "driver = webdriver.Chrome(chromedriver)\n",
    "driver.get('https://www.yelp.com/biz/purple-kow-san-francisco-2?osq=purple+kow')\n",
    "time.sleep(1)  #pause to be sure page has loaded"
   ]
  },
  {
   "cell_type": "code",
   "execution_count": null,
   "metadata": {
    "ExecuteTime": {
     "end_time": "2020-02-21T23:57:37.320120Z",
     "start_time": "2020-02-21T23:57:35.778310Z"
    }
   },
   "outputs": [],
   "source": [
    "from bs4 import BeautifulSoup\n",
    "import requests\n",
    "import time, os\n",
    "from selenium import webdriver\n",
    "from selenium.webdriver.common.keys import Keys\n",
    "import pandas as pd"
   ]
  },
  {
   "cell_type": "code",
   "execution_count": null,
   "metadata": {
    "ExecuteTime": {
     "end_time": "2020-02-21T23:57:42.770956Z",
     "start_time": "2020-02-21T23:57:38.640436Z"
    }
   },
   "outputs": [],
   "source": [
    "url = 'https://www.yelp.com/biz/purple-kow-san-francisco-2'\n",
    "response = requests.get(url)\n",
    "page = response.text\n",
    "soup = BeautifulSoup(page, 'lxml')"
   ]
  },
  {
   "cell_type": "code",
   "execution_count": null,
   "metadata": {
    "ExecuteTime": {
     "end_time": "2020-02-22T00:06:57.581210Z",
     "start_time": "2020-02-21T23:57:43.921987Z"
    }
   },
   "outputs": [],
   "source": [
    "spans = soup.find_all('span', {'class': 'lemon--span__373c0__3997G', 'lang':'en'})\n",
    "review = []\n",
    "for span in spans:\n",
    "    review.append(span.text)\n",
    "\n",
    "for i in range(20,2360,20):\n",
    "    url = 'https://www.yelp.com/biz/purple-kow-san-francisco-2?start={}'.format(i)\n",
    "    response = requests.get(url)\n",
    "    page = response.text\n",
    "    soup = BeautifulSoup(page, 'lxml')\n",
    "    spans = soup.find_all('span', {'class': 'lemon--span__373c0__3997G', 'lang':'en'})\n",
    "    \n",
    "    for span in spans:\n",
    "        review.append(span.text)\n",
    "    \n",
    "    pagenum = ((i/20)+1)\n",
    "    print('Scraped page',pagenum)\n",
    "    time.sleep(1)\n",
    "\n",
    "    \n"
   ]
  },
  {
   "cell_type": "code",
   "execution_count": 21,
   "metadata": {
    "ExecuteTime": {
     "end_time": "2020-03-05T09:28:08.309315Z",
     "start_time": "2020-03-05T09:27:56.564866Z"
    }
   },
   "outputs": [],
   "source": [
    "from bs4 import BeautifulSoup\n",
    "import requests\n",
    "import time, os\n",
    "from selenium import webdriver\n",
    "from selenium.webdriver.common.keys import Keys\n",
    "import pandas as pd\n",
    "\n",
    "chromedriver = \"/Applications/chromedriver\" # path to the chromedriver executable\n",
    "os.environ[\"webdriver.chrome.driver\"] = chromedriver\n",
    "\n",
    "driver = webdriver.Chrome(chromedriver)\n",
    "driver.get('https://stockx.com/travis-scott-x-jordan-air-cactus-jack-tee-black')\n",
    "time.sleep(5)  #pause to be sure page has loaded\n",
    "\n"
   ]
  },
  {
   "cell_type": "code",
   "execution_count": 23,
   "metadata": {
    "ExecuteTime": {
     "end_time": "2020-03-05T09:28:46.266396Z",
     "start_time": "2020-03-05T09:28:46.073850Z"
    }
   },
   "outputs": [],
   "source": [
    "all_sale = driver.find_element_by_link_text('View All Sales').click();"
   ]
  },
  {
   "cell_type": "code",
   "execution_count": null,
   "metadata": {},
   "outputs": [],
   "source": []
  },
  {
   "cell_type": "code",
   "execution_count": null,
   "metadata": {
    "ExecuteTime": {
     "end_time": "2020-03-05T08:43:14.272087Z",
     "start_time": "2020-03-05T08:43:14.248933Z"
    }
   },
   "outputs": [],
   "source": [
    "medication_name = driver.find_element_by_xpath('//input[@type=\"text\" and @name=\"drug-name\" and @class=\"hero-search\" and @autocomplete=\"off\" and @autocorrect=\"off\" and @spellcheck=\"false\"]');\n",
    "medication_name.send_keys(medication);\n",
    "time.sleep(5)\n",
    "\n",
    "search_button = driver.find_element_by_xpath('//input[@type=\"submit\" and @class=\"btn hero-search-submit\" and @value=\"Find the Lowest Price\"]');\n",
    "search_button.click();\n",
    "time.sleep(5)"
   ]
  },
  {
   "cell_type": "code",
   "execution_count": null,
   "metadata": {
    "ExecuteTime": {
     "end_time": "2020-02-21T23:49:05.030677Z",
     "start_time": "2020-02-21T23:49:05.024928Z"
    }
   },
   "outputs": [],
   "source": [
    "airport_dropdown = driver.find_element_by_name('port')\n",
    "airport_dropdown.send_keys(\"---SFO Terminal: Terminal A\")\n",
    "time.sleep(1)\n",
    "    \n",
    "driver.find_element_by_id('rptFrom').clear()\n",
    "time.sleep(2)\n",
    "driver.find_element_by_id('rptTo').clear()\n",
    "time.sleep(2)\n",
    "    \n",
    "input_start_date = driver.find_element_by_id('rptFrom')\n",
    "input_start_date.send_keys(start_date)\n",
    "time.sleep(2)\n",
    "    \n",
    "input_end_date = driver.find_element_by_id('rptTo')\n",
    "input_end_date.send_keys(end_date)\n",
    "time.sleep(2)\n",
    "\n",
    "search_button = driver.find_element_by_xpath('//input[@type=\"Submit\"]')\n",
    "search_button.click()\n",
    "time.sleep(5)"
   ]
  }
 ],
 "metadata": {
  "kernelspec": {
   "display_name": "Python [conda env:metis] *",
   "language": "python",
   "name": "conda-env-metis-py"
  },
  "language_info": {
   "codemirror_mode": {
    "name": "ipython",
    "version": 3
   },
   "file_extension": ".py",
   "mimetype": "text/x-python",
   "name": "python",
   "nbconvert_exporter": "python",
   "pygments_lexer": "ipython3",
   "version": "3.7.4"
  }
 },
 "nbformat": 4,
 "nbformat_minor": 2
}
