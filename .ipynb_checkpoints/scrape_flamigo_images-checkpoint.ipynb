{
 "cells": [
  {
   "cell_type": "code",
   "execution_count": 1,
   "metadata": {
    "ExecuteTime": {
     "end_time": "2020-03-09T23:38:33.467751Z",
     "start_time": "2020-03-09T23:38:33.203543Z"
    }
   },
   "outputs": [],
   "source": [
    "import selenium\n",
    "import os\n",
    "from selenium import webdriver\n",
    "import time\n",
    "import requests\n",
    "import io\n",
    "from PIL import Image\n",
    "import hashlib"
   ]
  },
  {
   "cell_type": "code",
   "execution_count": 2,
   "metadata": {
    "ExecuteTime": {
     "end_time": "2020-03-09T23:38:36.907636Z",
     "start_time": "2020-03-09T23:38:34.106078Z"
    }
   },
   "outputs": [],
   "source": [
    "DRIVER_PATH = \"/Applications/chromedriver\" # path to the chromedriver executable\n",
    "#os.environ[\"webdriver.chrome.driver\"] = chromedriver\n",
    "wd = webdriver.Chrome(executable_path=DRIVER_PATH)"
   ]
  },
  {
   "cell_type": "code",
   "execution_count": 3,
   "metadata": {
    "ExecuteTime": {
     "end_time": "2020-03-09T23:38:39.999173Z",
     "start_time": "2020-03-09T23:38:39.990930Z"
    }
   },
   "outputs": [],
   "source": [
    "def search_and_download(search_term:str,driver_path:str,target_path='./images',number_images=150):\n",
    "    target_folder = os.path.join(target_path,'_'.join(search_term.lower().split(' ')))\n",
    "\n",
    "    if not os.path.exists(target_folder):\n",
    "        os.makedirs(target_folder)\n",
    "\n",
    "    with webdriver.Chrome(executable_path=driver_path) as wd:\n",
    "        res = fetch_image_urls(search_term, number_images, wd=wd, sleep_between_interactions=0.5)\n",
    "        \n",
    "    for elem in res:\n",
    "        persist_image(target_folder,elem)"
   ]
  },
  {
   "cell_type": "code",
   "execution_count": 4,
   "metadata": {
    "ExecuteTime": {
     "end_time": "2020-03-09T23:38:43.642097Z",
     "start_time": "2020-03-09T23:38:43.630115Z"
    }
   },
   "outputs": [],
   "source": [
    "def fetch_image_urls(query:str, max_links_to_fetch:int, wd:webdriver, sleep_between_interactions:int=1):\n",
    "    def scroll_to_end(wd):\n",
    "        wd.execute_script(\"window.scrollTo(0, document.body.scrollHeight);\")\n",
    "        time.sleep(sleep_between_interactions)    \n",
    "    \n",
    "    # build the google query\n",
    "    search_url = \"https://www.google.com/search?safe=off&site=&tbm=isch&source=hp&q={q}&oq={q}&gs_l=img\"\n",
    "\n",
    "    # load the page\n",
    "    wd.get(search_url.format(q=query))\n",
    "\n",
    "    image_urls = set()\n",
    "    image_count = 0\n",
    "    results_start = 0\n",
    "    while image_count < max_links_to_fetch:\n",
    "        scroll_to_end(wd)\n",
    "\n",
    "        # get all image thumbnail results\n",
    "        thumbnail_results = wd.find_elements_by_css_selector(\"img.Q4LuWd\")\n",
    "        number_results = len(thumbnail_results)\n",
    "        \n",
    "        print(f\"Found: {number_results} search results. Extracting links from {results_start}:{number_results}\")\n",
    "        \n",
    "        for img in thumbnail_results[results_start:number_results]:\n",
    "            # try to click every thumbnail such that we can get the real image behind it\n",
    "            try:\n",
    "                img.click()\n",
    "                time.sleep(sleep_between_interactions)\n",
    "            except Exception:\n",
    "                continue\n",
    "\n",
    "            # extract image urls    \n",
    "            actual_images = wd.find_elements_by_css_selector('img.n3VNCb')\n",
    "            for actual_image in actual_images:\n",
    "                if actual_image.get_attribute('src') and 'http' in actual_image.get_attribute('src'):\n",
    "                    image_urls.add(actual_image.get_attribute('src'))\n",
    "\n",
    "            image_count = len(image_urls)\n",
    "\n",
    "            if len(image_urls) >= max_links_to_fetch:\n",
    "                print(f\"Found: {len(image_urls)} image links, done!\")\n",
    "                break\n",
    "        else:\n",
    "            print(\"Found:\", len(image_urls), \"image links, looking for more ...\")\n",
    "            time.sleep(30)\n",
    "            return\n",
    "            load_more_button = wd.find_element_by_css_selector(\".mye4qd\")\n",
    "            if load_more_button:\n",
    "                wd.execute_script(\"document.querySelector('.mye4qd').click();\")\n",
    "\n",
    "        # move the result startpoint further down\n",
    "        results_start = len(thumbnail_results)\n",
    "\n",
    "    return image_urls"
   ]
  },
  {
   "cell_type": "code",
   "execution_count": 5,
   "metadata": {
    "ExecuteTime": {
     "end_time": "2020-03-09T23:38:45.503348Z",
     "start_time": "2020-03-09T23:38:45.496542Z"
    }
   },
   "outputs": [],
   "source": [
    "def persist_image(folder_path:str,url:str):\n",
    "    try:\n",
    "        image_content = requests.get(url).content\n",
    "\n",
    "    except Exception as e:\n",
    "        print(f\"ERROR - Could not download {url} - {e}\")\n",
    "\n",
    "    try:\n",
    "        image_file = io.BytesIO(image_content)\n",
    "        image = Image.open(image_file).convert('RGB')\n",
    "        file_path = os.path.join(folder_path,hashlib.sha1(image_content).hexdigest()[:10] + '.jpg')\n",
    "        with open(file_path, 'wb') as f:\n",
    "            image.save(f, \"JPEG\", quality=85)\n",
    "        print(f\"SUCCESS - saved {url} - as {file_path}\")\n",
    "    except Exception as e:\n",
    "        print(f\"ERROR - Could not save {url} - {e}\")"
   ]
  },
  {
   "cell_type": "code",
   "execution_count": null,
   "metadata": {
    "ExecuteTime": {
     "end_time": "2020-03-09T04:42:11.626895Z",
     "start_time": "2020-03-09T04:42:07.279973Z"
    }
   },
   "outputs": [],
   "source": [
    "search_term = 'inflatable alligator'\n",
    "search_and_download(search_term = search_term, driver_path=DRIVER_PATH)"
   ]
  },
  {
   "cell_type": "code",
   "execution_count": null,
   "metadata": {
    "ExecuteTime": {
     "end_time": "2020-03-09T04:42:11.629194Z",
     "start_time": "2020-03-09T04:42:04.367Z"
    }
   },
   "outputs": [],
   "source": [
    "search_term = 'swimming inner tube'\n",
    "search_and_download(search_term = search_term, driver_path=DRIVER_PATH)"
   ]
  },
  {
   "cell_type": "code",
   "execution_count": null,
   "metadata": {
    "ExecuteTime": {
     "end_time": "2020-03-09T04:42:11.630099Z",
     "start_time": "2020-03-09T04:42:04.369Z"
    }
   },
   "outputs": [],
   "source": [
    "search_term = 'pool float'\n",
    "search_and_download(search_term = search_term, driver_path=DRIVER_PATH)"
   ]
  },
  {
   "cell_type": "code",
   "execution_count": null,
   "metadata": {},
   "outputs": [],
   "source": []
  },
  {
   "cell_type": "code",
   "execution_count": null,
   "metadata": {
    "ExecuteTime": {
     "end_time": "2020-03-09T04:47:03.592255Z",
     "start_time": "2020-03-09T04:45:14.136277Z"
    }
   },
   "outputs": [],
   "source": [
    "search_term = 'flamingo inflatable'\n",
    "search_and_download(search_term = search_term, driver_path=DRIVER_PATH)"
   ]
  },
  {
   "cell_type": "code",
   "execution_count": null,
   "metadata": {
    "ExecuteTime": {
     "end_time": "2020-03-09T04:52:30.985088Z",
     "start_time": "2020-03-09T04:50:03.372258Z"
    }
   },
   "outputs": [],
   "source": [
    "search_term = 'pool flamingo'\n",
    "search_and_download(search_term = search_term, driver_path=DRIVER_PATH)"
   ]
  },
  {
   "cell_type": "code",
   "execution_count": 6,
   "metadata": {
    "ExecuteTime": {
     "end_time": "2020-03-09T23:41:06.900098Z",
     "start_time": "2020-03-09T23:38:54.465579Z"
    }
   },
   "outputs": [
    {
     "name": "stdout",
     "output_type": "stream",
     "text": [
      "Found: 100 search results. Extracting links from 0:100\n",
      "Found: 151 image links, done!\n",
      "SUCCESS - saved https://i1.wp.com/intrepidtubie.com/wp-content/uploads/2019/08/IMG953611-1.jpg?fit=600%2C800&ssl=1 - as ./images/people_in_swim_tube/4ce8875b98.jpg\n",
      "SUCCESS - saved https://upload.wikimedia.org/wikipedia/commons/thumb/9/92/Swimming-pool.jpg/220px-Swimming-pool.jpg - as ./images/people_in_swim_tube/504d77ce57.jpg\n",
      "SUCCESS - saved https://encrypted-tbn0.gstatic.com/images?q=tbn%3AANd9GcTnJkWepx0ttaiyCNFWPFlyBAADvJjbwbKf1Mb7NC3NVnMg3MGi - as ./images/people_in_swim_tube/5c664dde4e.jpg\n",
      "SUCCESS - saved https://i2.wp.com/bestinflatablesports.com/wp-content/uploads/2018/02/shutterstock_512094808-1-e1518035039529.jpg?fit=1000%2C545&ssl=1 - as ./images/people_in_swim_tube/8b1f53fc5f.jpg\n",
      "SUCCESS - saved https://encrypted-tbn0.gstatic.com/images?q=tbn%3AANd9GcQlcCOTJm3fFlMG8zBYKTTBoC6yoiv8TlPHHq2x-Yz1btsGS-3F - as ./images/people_in_swim_tube/400b9326ff.jpg\n",
      "SUCCESS - saved https://encrypted-tbn0.gstatic.com/images?q=tbn%3AANd9GcQpwzW45SHGhM8j4J0Wpu2FmfoI2YWPoYlQM0RRTHSGGWsGUG0z - as ./images/people_in_swim_tube/7c63877873.jpg\n",
      "SUCCESS - saved https://encrypted-tbn0.gstatic.com/images?q=tbn%3AANd9GcQaLFfXmykWuFJqLPEVUCwbam8WNqtAWk3NAfWpaWZMjZGsXla5 - as ./images/people_in_swim_tube/4b2cdec21c.jpg\n",
      "SUCCESS - saved https://c8.alamy.com/comp/A2WCC0/people-8-year-old-child-in-water-tube-with-flippers-model-released-A2WCC0.jpg - as ./images/people_in_swim_tube/e4fab2e974.jpg\n",
      "SUCCESS - saved https://encrypted-tbn0.gstatic.com/images?q=tbn%3AANd9GcSR20k2Z3Etcf0ho8Ipay_pHYTAs0QNxNm_gs8FNbdgUKfKW5Ck - as ./images/people_in_swim_tube/ca9674c3e7.jpg\n",
      "SUCCESS - saved https://images-na.ssl-images-amazon.com/images/I/61LEgUglVnL._SL1000_.jpg - as ./images/people_in_swim_tube/465bf29d90.jpg\n",
      "SUCCESS - saved https://encrypted-tbn0.gstatic.com/images?q=tbn%3AANd9GcRBOQaBc4nkYfV-LkY2piHDuwVZkNLFuWM353gjKR4mhJUW9T5h - as ./images/people_in_swim_tube/0ad2c83e4f.jpg\n",
      "SUCCESS - saved https://i.etsystatic.com/18684555/r/il/320ceb/1675801014/il_570xN.1675801014_7i2f.jpg - as ./images/people_in_swim_tube/c850c90b4e.jpg\n",
      "SUCCESS - saved https://encrypted-tbn0.gstatic.com/images?q=tbn%3AANd9GcQQfURiM1-LeElS2Zi97RpFxeeuFziKoQ0eL0DlLJLLD7NcDIfl - as ./images/people_in_swim_tube/c3761729ce.jpg\n",
      "SUCCESS - saved https://encrypted-tbn0.gstatic.com/images?q=tbn%3AANd9GcSh3KRsffba6697BDbvLeIVjEdCqG_gg-wr0gi_-BCsmGLaS0P1 - as ./images/people_in_swim_tube/41ee2c7bcd.jpg\n",
      "SUCCESS - saved https://static.independent.co.uk/s3fs-public/thumbnails/image/2017/08/17/10/baby-neck-float.png?w968h681 - as ./images/people_in_swim_tube/468dc998dc.jpg\n",
      "SUCCESS - saved https://encrypted-tbn0.gstatic.com/images?q=tbn%3AANd9GcTDH1YQzTDoGguCg5r78eIBDQkAR6Mxi91JVwhfqJghqQltIaw3 - as ./images/people_in_swim_tube/9b9a28a04f.jpg\n",
      "SUCCESS - saved https://encrypted-tbn0.gstatic.com/images?q=tbn%3AANd9GcQBdorBHcQaB0IHu5bceVyrQBrcSBAEjgTJ5aQFDq7LaMOkn795 - as ./images/people_in_swim_tube/ea1656bf72.jpg\n",
      "SUCCESS - saved https://encrypted-tbn0.gstatic.com/images?q=tbn%3AANd9GcSMcdYyKQk7mW8ab_xcB6rVFXFsPVeAwoaMQ2vyTZIN-PNEz9zt - as ./images/people_in_swim_tube/3e1bc20429.jpg\n",
      "SUCCESS - saved https://www.featurepics.com/StockImage/20151109/family-in-swimming-pool-stock-photo-3837541.jpg - as ./images/people_in_swim_tube/69317349bf.jpg\n",
      "SUCCESS - saved https://encrypted-tbn0.gstatic.com/images?q=tbn%3AANd9GcRoItjP-jQZZCHZ_tiYg4GAxBHwTKxA-8zYjEVQpgNpV_usXw_0 - as ./images/people_in_swim_tube/fbe1a7328f.jpg\n",
      "SUCCESS - saved https://images.prod.meredith.com/product/fb2a240e96f58a84f4afe6cb247a03aa/1561111879091/l/sunsplash-pink-giant-swim-tube-pool-floats-2-pack - as ./images/people_in_swim_tube/021a27739f.jpg\n",
      "SUCCESS - saved https://thumbs.dreamstime.com/z/cute-little-girl-looking-big-swimming-tube-portrait-cute-little-girl-looking-big-pink-swim-tube-beach-131411280.jpg - as ./images/people_in_swim_tube/0b8c7ab946.jpg\n",
      "SUCCESS - saved https://encrypted-tbn0.gstatic.com/images?q=tbn%3AANd9GcQVORl3v1qyvViWNvapvSaQWXm-jPsR_vsF_NZ5sQlJulPdir2u - as ./images/people_in_swim_tube/d94e0873cf.jpg\n",
      "SUCCESS - saved https://encrypted-tbn0.gstatic.com/images?q=tbn%3AANd9GcSXFrZfBIDBmndGH_JzBXNJAePypFAdpsY_1xcfYSzknTsD9WtG - as ./images/people_in_swim_tube/7feff7e516.jpg\n",
      "SUCCESS - saved https://s3.transterramedia.com/thumb_mds/82828/thumb_md.jpg - as ./images/people_in_swim_tube/b31bd04c9c.jpg\n",
      "SUCCESS - saved https://encrypted-tbn0.gstatic.com/images?q=tbn%3AANd9GcSPEr7eWp_FWQX2IXswqGi-YvyJPv3wvqjgas60daxlCbRappXw - as ./images/people_in_swim_tube/445394fe72.jpg\n",
      "SUCCESS - saved https://encrypted-tbn0.gstatic.com/images?q=tbn%3AANd9GcQe2h0POj8AshTPrAMIN1WvwQBvpwrKzpoMXluvsPnD-WtlR84T - as ./images/people_in_swim_tube/cf1eff5022.jpg\n",
      "SUCCESS - saved https://encrypted-tbn0.gstatic.com/images?q=tbn%3AANd9GcQ8i8kpNahVSNT8bIq-h2Myc8r6xIedxylgeZFLhMIntclkMyTe - as ./images/people_in_swim_tube/706fbeed0d.jpg\n",
      "SUCCESS - saved https://www.featurepics.com/StockImage/20151109/asian-family-in-pool-stock-image-3837615.jpg - as ./images/people_in_swim_tube/9204eed69d.jpg\n",
      "SUCCESS - saved https://encrypted-tbn0.gstatic.com/images?q=tbn%3AANd9GcT_gBsY9UHfsxVgY_3Jn1kd7K_0cejIpelootlGz26eU6Z3LYSh - as ./images/people_in_swim_tube/864b4e2151.jpg\n",
      "SUCCESS - saved https://ak1.picdn.net/shutterstock/videos/1034498021/thumb/5.jpg?ip=x480 - as ./images/people_in_swim_tube/11fe2a3497.jpg\n",
      "SUCCESS - saved https://image.shutterstock.com/image-photo/happy-young-woman-glasses-swimming-260nw-1046118664.jpg - as ./images/people_in_swim_tube/f45a47049d.jpg\n",
      "SUCCESS - saved https://encrypted-tbn0.gstatic.com/images?q=tbn%3AANd9GcQF_v-kYXeXxwhtcMfj_kcglhIRgdDyBVreY-hhNz3UxausqfvX - as ./images/people_in_swim_tube/6c98941df2.jpg\n",
      "SUCCESS - saved https://previews.123rf.com/images/bbtreesubmission/bbtreesubmission1709/bbtreesubmission170918163/87238893-asian-young-man-in-swim-wear-on-tube-at-pool.jpg - as ./images/people_in_swim_tube/2d9b5da577.jpg\n",
      "SUCCESS - saved https://c8.alamy.com/comp/PKKR9G/feet-and-body-of-a-man-in-the-pool-on-a-swim-tube-inner-tube-PKKR9G.jpg - as ./images/people_in_swim_tube/f270774586.jpg\n",
      "SUCCESS - saved https://encrypted-tbn0.gstatic.com/images?q=tbn%3AANd9GcQJdlbLZlyJseOytBAgmnv5O_BDZlHjlNLCI1lpb3-u-SP8mypJ - as ./images/people_in_swim_tube/1d220e8ae2.jpg\n",
      "SUCCESS - saved https://images.squarespace-cdn.com/content/v1/54c17c8be4b0d95d794c3f75/1421966968948-WM8ELAIV6U68CI8IY0DV/ke17ZwdGBToddI8pDm48kDHPSfPanjkWqhH6pl6g5ph7gQa3H78H3Y0txjaiv_0fDoOvxcdMmMKkDsyUqMSsMWxHk725yiiHCCLfrh8O1z4YTzHvnKhyp6Da-NYroOW3ZGjoBKy3azqku80C789l0mwONMR1ELp49Lyc52iWr5dNb1QJw9casjKdtTg1_-y4jz4ptJBmI9gQmbjSQnNGng/photo.JPG?format=1500w - as ./images/people_in_swim_tube/2a0154dbe8.jpg\n",
      "SUCCESS - saved https://encrypted-tbn0.gstatic.com/images?q=tbn%3AANd9GcSelXgNSe1O3zhdvcAZ9idMiASjNtB6ZUewNmWk5Glx3YDURJGB - as ./images/people_in_swim_tube/441ea6ed90.jpg\n",
      "SUCCESS - saved https://cdn.shopify.com/s/files/1/1807/3219/products/71qQNHCzGiL_1600x.jpg?v=1582411612 - as ./images/people_in_swim_tube/2b50bcb8a2.jpg\n",
      "SUCCESS - saved https://encrypted-tbn0.gstatic.com/images?q=tbn%3AANd9GcR7XfF0EFbPK4N-FrRTy3E4Orb74aSL0vUFGeDHmAXmM21z_A-k - as ./images/people_in_swim_tube/87da5b90da.jpg\n",
      "SUCCESS - saved https://www.dhresource.com/600x600/f2/albu/g6/M00/4D/07/rBVaSFso1hiALTsWAAQBp_P1qKk278.jpg - as ./images/people_in_swim_tube/b0fdb9b85c.jpg\n",
      "SUCCESS - saved https://encrypted-tbn0.gstatic.com/images?q=tbn%3AANd9GcRIS-v1vM6CTsai0sxZHWrOFXFKkSv3AYiVYPM-1qJjYPXGIntq - as ./images/people_in_swim_tube/fad44e8f6a.jpg\n",
      "SUCCESS - saved https://encrypted-tbn0.gstatic.com/images?q=tbn%3AANd9GcR4BcKX3md-CPdjNN7NVHzminTWGyhev25MycsTSibwjjy9nicr - as ./images/people_in_swim_tube/abd0fd9c63.jpg\n",
      "ERROR - Could not save https://www.splashcountry.info/wp-content/uploads/sites/6/2019/02/NewWebsiteHeaderImages_Splash_1540x4603_3-748x460.png - cannot identify image file <_io.BytesIO object at 0x112d0ad10>\n",
      "SUCCESS - saved https://i5.walmartimages.com/asr/0af4efc2-feda-44ef-bd73-76e1e133d328_1.37fd56bb5bb0e47ac052eb954e610b49.jpeg - as ./images/people_in_swim_tube/4d6033d42c.jpg\n",
      "SUCCESS - saved https://img.rawpixel.com/s3fs-private/rawpixel_images/website_content/421-kaboompics-2.jpg?auto=format&bg=transparent&con=3&cs=srgb&dpr=1&fm=jpg&ixlib=php-3.1.0&mark=rawpixel-watermark.png&markalpha=90&markpad=13&markscale=10&markx=25&q=75&usm=15&vib=3&w=1400&s=805e16e3e3ec161c18d49b563b50ba22 - as ./images/people_in_swim_tube/54905132c7.jpg\n",
      "SUCCESS - saved https://hips.hearstapps.com/vader-prod.s3.amazonaws.com/1563216678-51EnjWsIS5L.jpg?crop=1xw:1xh;center,top&resize=480:* - as ./images/people_in_swim_tube/675f0acfcf.jpg\n"
     ]
    },
    {
     "name": "stdout",
     "output_type": "stream",
     "text": [
      "SUCCESS - saved https://www.mic-key.com/wp-content/uploads/2016/09/pool@2x.jpg - as ./images/people_in_swim_tube/ed70dfc897.jpg\n",
      "SUCCESS - saved https://encrypted-tbn0.gstatic.com/images?q=tbn%3AANd9GcSNXYDGsnCkzEeestwQR91AE6OO2TUainadWVhlv_ewl5qpb5_r - as ./images/people_in_swim_tube/0e4fd8fee3.jpg\n",
      "SUCCESS - saved https://thumbs.dreamstime.com/z/penticton-british-columbia-canada-september-people-swim-float-inner-tube-penticton-river-channel-popular-summer-164198231.jpg - as ./images/people_in_swim_tube/b238f1b6f3.jpg\n",
      "SUCCESS - saved https://encrypted-tbn0.gstatic.com/images?q=tbn%3AANd9GcTyFauEMyax47ZsKnBYtvwVY2PP8jMTjIyUJF6L_TiFP5-7M_-Y - as ./images/people_in_swim_tube/3c5e3f96d6.jpg\n",
      "SUCCESS - saved https://images-na.ssl-images-amazon.com/images/I/71IxV%2BDlk1L._AC_SX425_.jpg - as ./images/people_in_swim_tube/f1afd0c7f8.jpg\n",
      "SUCCESS - saved https://i.pinimg.com/originals/17/6d/fd/176dfdd834c672a7762bd570a24aab63.jpg - as ./images/people_in_swim_tube/fe9ac415b8.jpg\n",
      "SUCCESS - saved https://encrypted-tbn0.gstatic.com/images?q=tbn%3AANd9GcQYb52-IT_UE1nLU5T3rEJMqmolMT3Dtk41PPDO2yhBZcrAj0iK - as ./images/people_in_swim_tube/ce72a291e0.jpg\n",
      "SUCCESS - saved https://c8.alamy.com/comp/BRCYT1/young-girl-floating-down-river-in-inner-tube-BRCYT1.jpg - as ./images/people_in_swim_tube/b339d98926.jpg\n",
      "SUCCESS - saved https://encrypted-tbn0.gstatic.com/images?q=tbn%3AANd9GcRI8aIIBOVElUt_mgV98Ijjw11lXYSDuEZvBmx3iIB4SrLgw-C7 - as ./images/people_in_swim_tube/3fe5ce203a.jpg\n",
      "SUCCESS - saved https://i5.walmartimages.com/asr/2314f00f-f834-4153-a870-b6f46eb5c7e5_1.f41b1031b62aceeac2ea1aa1466e8996.jpeg - as ./images/people_in_swim_tube/4a66fb5d92.jpg\n",
      "SUCCESS - saved https://encrypted-tbn0.gstatic.com/images?q=tbn%3AANd9GcSo5IKV9zlVWX5upBwWBT_nBxsxTZopjf5LnmqgED3VzifPqo3T - as ./images/people_in_swim_tube/fd63a131c0.jpg\n",
      "SUCCESS - saved https://images-na.ssl-images-amazon.com/images/I/61a-hOCbznL._AC_SX425_.jpg - as ./images/people_in_swim_tube/568ee86d2d.jpg\n",
      "SUCCESS - saved https://asset---north-carolina.bldg15.net/img/b/3/b3aa0060-663c-4e1e-a7ce-49112a92e882/Sliding%20Rock%20Woman-fit(1000,600).222739d9.jpg - as ./images/people_in_swim_tube/6ca19d1683.jpg\n",
      "SUCCESS - saved https://encrypted-tbn0.gstatic.com/images?q=tbn%3AANd9GcRuSXxzleeqGyH26-hzdQ231XraKfkxfWJC-fBuonrTzgy6YU2c - as ./images/people_in_swim_tube/f1e59f0f8a.jpg\n",
      "SUCCESS - saved https://encrypted-tbn0.gstatic.com/images?q=tbn%3AANd9GcRlQ9NDmUjW30jgrIA2QUAmEdteDeqNefkFDaZxpLdVvLmUpxFa - as ./images/people_in_swim_tube/9cb7184867.jpg\n",
      "SUCCESS - saved https://image.shutterstock.com/image-vector/vector-illustration-people-sunbathing-swimming-260nw-1404851198.jpg - as ./images/people_in_swim_tube/f8d86fe0fd.jpg\n",
      "SUCCESS - saved https://i.pinimg.com/originals/3c/e3/d4/3ce3d49494df566f21991e8f35886bfa.jpg - as ./images/people_in_swim_tube/ec79cdfa5a.jpg\n",
      "SUCCESS - saved https://encrypted-tbn0.gstatic.com/images?q=tbn%3AANd9GcT_0L7T3st790U6f9d1qC2dFBQzC-FQWKAZrqdcNRgrTFbMmgEC - as ./images/people_in_swim_tube/2eb50e1219.jpg\n",
      "SUCCESS - saved https://encrypted-tbn0.gstatic.com/images?q=tbn%3AANd9GcRFQTY424oSEwAzcQ9dgw8GQ914eq_FoOCBJvO_2qLA5bdRVCRl - as ./images/people_in_swim_tube/88ee5aff8b.jpg\n",
      "SUCCESS - saved https://encrypted-tbn0.gstatic.com/images?q=tbn%3AANd9GcRxDrv9LPUEWQHJZLGr9PdLDN6T0iWJnYHojgRm7M8VfxfFdqfa - as ./images/people_in_swim_tube/4315e900dc.jpg\n",
      "SUCCESS - saved https://encrypted-tbn0.gstatic.com/images?q=tbn%3AANd9GcQKkZbdDimlO0KOjqCS2jmiSLN8WtrE7wWpjRNO0N_yW7s0l6vY - as ./images/people_in_swim_tube/64f5543f7c.jpg\n",
      "SUCCESS - saved https://encrypted-tbn0.gstatic.com/images?q=tbn%3AANd9GcQEWMfOetQBkCqcQLAs1BVhcNQNOFHGTt7GkJ_lqvJ_zALuHdLH - as ./images/people_in_swim_tube/bfe0691a34.jpg\n",
      "SUCCESS - saved https://encrypted-tbn0.gstatic.com/images?q=tbn%3AANd9GcQud2wpN2T6Q5pEqz4izTvyWqydg60_sZ7rq9mkW2hW2rfxVh1_ - as ./images/people_in_swim_tube/8883cfe677.jpg\n",
      "SUCCESS - saved https://encrypted-tbn0.gstatic.com/images?q=tbn%3AANd9GcTDmMvjfaRgv6Jl3tGfGD7IhIHaQV8aZGb4AfTGZlusj6bYDoGR - as ./images/people_in_swim_tube/d6b3961336.jpg\n",
      "SUCCESS - saved https://lh3.googleusercontent.com/proxy/oelq9m446aa68VVqF4EuqGBm6pvSFRDPawG-GO1Ef8RU0YoLesIuTcWZsj3b0lSGeDsQ76EF5HwLlkQiseIsuoTyQZNCKdu73Cs_V27ua2k - as ./images/people_in_swim_tube/4060abe87e.jpg\n",
      "SUCCESS - saved https://encrypted-tbn0.gstatic.com/images?q=tbn%3AANd9GcTddAhgSWCqIVna3pSYhzImUSpQqkvsndzSa1OAi0JtGeWwgZNo - as ./images/people_in_swim_tube/4782295cbb.jpg\n",
      "SUCCESS - saved https://encrypted-tbn0.gstatic.com/images?q=tbn%3AANd9GcSUSe1-AnqYQlEDlr7qDg8_ddaZQiN61wylSvU6NbeleBMudic5 - as ./images/people_in_swim_tube/8bd7bbaf80.jpg\n",
      "SUCCESS - saved https://encrypted-tbn0.gstatic.com/images?q=tbn%3AANd9GcTs8IvdRu-Rf8JFiZPAwr-h48rvk5tIH0skV7EXaLX6asNx7H71 - as ./images/people_in_swim_tube/e539878d70.jpg\n",
      "SUCCESS - saved https://i.pinimg.com/originals/35/17/59/351759f5d2a3166167decfcf857bcc79.jpg - as ./images/people_in_swim_tube/b96250a02b.jpg\n",
      "SUCCESS - saved https://encrypted-tbn0.gstatic.com/images?q=tbn%3AANd9GcSKtxfW63WbpIkW_omc78inNwfiefQ6Pc_17_azxJt0LEdtWBnF - as ./images/people_in_swim_tube/ff48139906.jpg\n",
      "SUCCESS - saved https://www.sunjoie.com/Uploads/5b0e9e548c75e.jpg - as ./images/people_in_swim_tube/9f9bb74e2e.jpg\n",
      "SUCCESS - saved https://encrypted-tbn0.gstatic.com/images?q=tbn%3AANd9GcSrAZcE0xxcbGsUl-MMJSOlNfK-eObHDXpg2mDK_XSV273TrU9y - as ./images/people_in_swim_tube/07b5f9d3f1.jpg\n",
      "SUCCESS - saved https://c8.alamy.com/comp/MR6Y3F/cute-multiethnic-kids-having-fun-with-swim-tube-isolated-on-white-MR6Y3F.jpg - as ./images/people_in_swim_tube/016dd7ab68.jpg\n",
      "SUCCESS - saved https://encrypted-tbn0.gstatic.com/images?q=tbn%3AANd9GcR7u6LQqTgtER2hmPz9R-Zqd8MGWrxjp48ZM_5h5GuVN2pFdocI - as ./images/people_in_swim_tube/bd6e2fa63a.jpg\n",
      "SUCCESS - saved https://fscomps.fotosearch.com/compc/SPS/SPS007/people-swim-pool-swimming-stock-photo__1417r-127.jpg - as ./images/people_in_swim_tube/b37b6665db.jpg\n",
      "SUCCESS - saved https://images-na.ssl-images-amazon.com/images/I/71scb5l%2Bq1L._AC_SX466_.jpg - as ./images/people_in_swim_tube/30a7f31bf4.jpg\n",
      "SUCCESS - saved https://encrypted-tbn0.gstatic.com/images?q=tbn%3AANd9GcTDA1MDvT02RvCxKcdvD8bjvYDPF0suE-39uzrsvo1jyqWnVpQV - as ./images/people_in_swim_tube/08c24a707c.jpg\n",
      "SUCCESS - saved https://encrypted-tbn0.gstatic.com/images?q=tbn%3AANd9GcSDdOya0WPXk9UMTLb1m6YXgdPJn8jyJRfiTOFQ3IQvsluNoPIJ - as ./images/people_in_swim_tube/735e76c029.jpg\n",
      "SUCCESS - saved https://ae01.alicdn.com/kf/HTB1uQzaCf5TBuNjSspmq6yDRVXaU.jpg - as ./images/people_in_swim_tube/e336ca6552.jpg\n",
      "SUCCESS - saved https://encrypted-tbn0.gstatic.com/images?q=tbn%3AANd9GcRou3vS5g4EvWEgbutcyT3KAqOWBvdIDBjeXhMCdTpLM-W3UJhp - as ./images/people_in_swim_tube/2f2ce40a1d.jpg\n",
      "SUCCESS - saved https://encrypted-tbn0.gstatic.com/images?q=tbn%3AANd9GcSyrw1UW-pJ12FsL9BPIReIFdfOs7T5s5eNx0EMjXU-ioHzkqJD - as ./images/people_in_swim_tube/fe2b15396f.jpg\n",
      "SUCCESS - saved https://media.istockphoto.com/photos/asian-boy-in-tube-learning-to-swim-picture-id482073459 - as ./images/people_in_swim_tube/cb241453ab.jpg\n",
      "SUCCESS - saved https://upload.wikimedia.org/wikipedia/commons/thumb/4/44/Teddy-in-swim-ring.JPG/220px-Teddy-in-swim-ring.JPG - as ./images/people_in_swim_tube/fb0537d5bd.jpg\n",
      "SUCCESS - saved https://encrypted-tbn0.gstatic.com/images?q=tbn%3AANd9GcQMJZayuSDdPDYuweDrM6nxJzJQYFgLkBtWYYZHTf7J9N64yNWY - as ./images/people_in_swim_tube/c92b2f0407.jpg\n",
      "SUCCESS - saved https://encrypted-tbn0.gstatic.com/images?q=tbn%3AANd9GcSBrfWM_CZIhkJSrdZx4OwO9d8s4oq984QCZLy0pobKzsG7aUau - as ./images/people_in_swim_tube/6bfb79a5af.jpg\n",
      "SUCCESS - saved https://encrypted-tbn0.gstatic.com/images?q=tbn%3AANd9GcT-LI9l--jCr77CdsWJHXkoK1PGuRjxsNGV9HZ-XXV11aUvlZhF - as ./images/people_in_swim_tube/e1159d3377.jpg\n",
      "SUCCESS - saved https://www.sonomacounty.com/sites/default/files/inline-images/parks_Healdsburg_Veterans_Memorial_Beach_regional_park_Sonoma_County_002_900x675.jpg - as ./images/people_in_swim_tube/083158b957.jpg\n",
      "SUCCESS - saved https://encrypted-tbn0.gstatic.com/images?q=tbn%3AANd9GcRMUk129LNAaKGhnbWbBxDr2rJalhYg9OCm7vvv_vxhCYhPIJI1 - as ./images/people_in_swim_tube/6719f24aad.jpg\n",
      "SUCCESS - saved https://encrypted-tbn0.gstatic.com/images?q=tbn%3AANd9GcQXerAHeEd5SeRKrBUY57G8-YbmnA6O-hoz4MHxj0AJqCC3WGoc - as ./images/people_in_swim_tube/796ea859a2.jpg\n"
     ]
    },
    {
     "name": "stdout",
     "output_type": "stream",
     "text": [
      "SUCCESS - saved https://encrypted-tbn0.gstatic.com/images?q=tbn%3AANd9GcQ4SJj3yzPetWG0iDXY9RcwyDBzCtp3vg8Ip10dEEz91fm3jFVa - as ./images/people_in_swim_tube/7996930dff.jpg\n",
      "SUCCESS - saved https://qph.fs.quoracdn.net/main-qimg-288114767518f755679a080c70a04e02 - as ./images/people_in_swim_tube/8109d909af.jpg\n",
      "SUCCESS - saved https://fscomps.fotosearch.com/compc/SPS/SPS007/people-swim-pool-couple-swimming-stock-photography__1417r-135.jpg - as ./images/people_in_swim_tube/bcc3841fcb.jpg\n",
      "SUCCESS - saved https://ae01.alicdn.com/kf/HTB1TFsaIVXXXXcbXpXXq6xXFXXX5/222222597/HTB1TFsaIVXXXXcbXpXXq6xXFXXX5.jpg - as ./images/people_in_swim_tube/633ca658e8.jpg\n",
      "SUCCESS - saved https://encrypted-tbn0.gstatic.com/images?q=tbn%3AANd9GcRMEIbKOb1MJ9oGNcmVESYRwZqVPg0hfrXGtCBvdgeS2JocVz-F - as ./images/people_in_swim_tube/d65494db4f.jpg\n",
      "SUCCESS - saved https://encrypted-tbn0.gstatic.com/images?q=tbn%3AANd9GcRFpWHHt3kItLOrSn3JGU4dQAWM0a77htWKP02Nkk4TU2mBmj2t - as ./images/people_in_swim_tube/075d132232.jpg\n",
      "SUCCESS - saved https://fscomps.fotosearch.com/compc/SPS/SPS007/people-swim-pool-swimming-stock-image__1417r-102.jpg - as ./images/people_in_swim_tube/d9a7f327f1.jpg\n",
      "SUCCESS - saved https://encrypted-tbn0.gstatic.com/images?q=tbn%3AANd9GcQy08dzMUPDPWRhylwBhOcDsHWdn11fkGRbXUibuPaO1mjf-37c - as ./images/people_in_swim_tube/d8e0a27d72.jpg\n",
      "SUCCESS - saved https://images-na.ssl-images-amazon.com/images/I/71hyDke7%2BHL._AC_SL1001_.jpg - as ./images/people_in_swim_tube/36d3f60508.jpg\n",
      "SUCCESS - saved https://encrypted-tbn0.gstatic.com/images?q=tbn%3AANd9GcRfyqqxlr0Oy4fbrasuHPO1D18bngloiWCWPk1XB3ysGgK4sI8k - as ./images/people_in_swim_tube/fddd046e81.jpg\n",
      "SUCCESS - saved https://www.featurepics.com/StockImage/20151109/asian-family-in-pool-stock-image-3837614.jpg - as ./images/people_in_swim_tube/a1b31bdda3.jpg\n",
      "SUCCESS - saved https://image1.masterfile.com/getImage/NjQwLTAzMjYxNTkxZW4uMDAwMDAwMDA=AM$9Es/640-03261591en_Masterfile.jpg - as ./images/people_in_swim_tube/523ac7a7e5.jpg\n",
      "SUCCESS - saved https://images.prod.meredith.com/product/a9972ab5fa261dcedf386b486f963b90/1527955159308/l/orange-learn-to-swim-tube-trainer-oranges-peaches - as ./images/people_in_swim_tube/71526f742b.jpg\n",
      "SUCCESS - saved https://encrypted-tbn0.gstatic.com/images?q=tbn%3AANd9GcR6mcgrGMKoUdc0ediF1oqA25EuNsnqqlvArtHcGwKiSUEc9Vlk - as ./images/people_in_swim_tube/c27b469910.jpg\n",
      "SUCCESS - saved https://encrypted-tbn0.gstatic.com/images?q=tbn%3AANd9GcTIwlSZopbwlNX4OLDOVU5yoGp68svUpnzLUuapmpMP6xl90jSw - as ./images/people_in_swim_tube/d00429035c.jpg\n",
      "SUCCESS - saved https://www.featurepics.com/StockImage/20151109/family-in-swimming-pool-stock-photo-3837576.jpg - as ./images/people_in_swim_tube/10df23c53a.jpg\n",
      "SUCCESS - saved https://i.ebayimg.com/images/g/RwYAAOSw6QJdHtIY/s-l400.jpg - as ./images/people_in_swim_tube/e5bb22577b.jpg\n",
      "SUCCESS - saved https://encrypted-tbn0.gstatic.com/images?q=tbn%3AANd9GcQstiLnaKqqWJZ51_KTk0A-XCOXw0uq7VphtQqAl2qz8EcW1laT - as ./images/people_in_swim_tube/b219f18e03.jpg\n",
      "SUCCESS - saved https://i.imgur.com/BB6TVrk.jpg?fb - as ./images/people_in_swim_tube/3800a45493.jpg\n",
      "SUCCESS - saved https://encrypted-tbn0.gstatic.com/images?q=tbn%3AANd9GcQLtB7u3G0-3Mn-ehGJVuBFNlZL70jbqCwXV4dzs5opsPFoScN0 - as ./images/people_in_swim_tube/c8651047f8.jpg\n",
      "SUCCESS - saved https://encrypted-tbn0.gstatic.com/images?q=tbn%3AANd9GcSY0ANOTkzZpJiUR-f6bQnQ0juI2hNhditLMe_jY3yV3UaYvQKd - as ./images/people_in_swim_tube/8c6e63cb07.jpg\n",
      "SUCCESS - saved https://img.rawpixel.com/s3fs-private/rawpixel_images/website_content/k-202-chim-00061.jpg?auto=format&bg=transparent&con=3&cs=srgb&dpr=1&fm=jpg&ixlib=php-3.1.0&mark=rawpixel-watermark.png&markalpha=90&markpad=13&markscale=10&markx=25&q=75&usm=15&vib=3&w=1400&s=70b6b122e0473839b47ae4e3c7dd1d3e - as ./images/people_in_swim_tube/7dadc48e60.jpg\n",
      "SUCCESS - saved https://encrypted-tbn0.gstatic.com/images?q=tbn%3AANd9GcR79ehz7qv3W9is4-ttRqWF83BbK_pBeYkjWyHnNrXt9wLiXAiV - as ./images/people_in_swim_tube/a3244b4b44.jpg\n",
      "SUCCESS - saved https://encrypted-tbn0.gstatic.com/images?q=tbn%3AANd9GcQHRPT4c7ynLMbSvIPgJflTl7iKV28txVnUDqau9n4ektsMyxW5 - as ./images/people_in_swim_tube/30326221a8.jpg\n",
      "SUCCESS - saved https://encrypted-tbn0.gstatic.com/images?q=tbn%3AANd9GcQ25pEmbUlJBP0Ymw8SBG1VlJPRK2x3ibl5BwTAtu2W2MJQ1VJg - as ./images/people_in_swim_tube/eb1a3524be.jpg\n",
      "SUCCESS - saved https://images-na.ssl-images-amazon.com/images/I/71toLfzaWfL._SL1000_.jpg - as ./images/people_in_swim_tube/6aac4244fd.jpg\n",
      "ERROR - Could not save https://www.ebony.com/wp-content/uploads/2018/07/Cullen-Jones-Black-people-swimming-swimming-pools.jpg - cannot identify image file <_io.BytesIO object at 0x112ec6590>\n",
      "SUCCESS - saved https://encrypted-tbn0.gstatic.com/images?q=tbn%3AANd9GcSJeInvnbCbtXlItvfFHE4HFMHnybwkbEGPho8CCcepqKjx0y92 - as ./images/people_in_swim_tube/1d523e3072.jpg\n",
      "SUCCESS - saved https://img.texasmonthly.com/2019/08/swimming-holes-feature.jpg?auto=compress&crop=faces&fit=fit&fm=jpg&h=0&ixlib=php-1.2.1&q=45&w=2000 - as ./images/people_in_swim_tube/95623e701d.jpg\n",
      "SUCCESS - saved https://encrypted-tbn0.gstatic.com/images?q=tbn%3AANd9GcRHe35jIb68u6phTOlXDDyN0jSofeD5KpZMmrjx5xdk5BYsWCfi - as ./images/people_in_swim_tube/68325665f0.jpg\n",
      "SUCCESS - saved https://hips.hearstapps.com/hmg-prod.s3.amazonaws.com/images/sloth-pool-float-1563217737.jpg - as ./images/people_in_swim_tube/7be7728e5b.jpg\n",
      "SUCCESS - saved https://cdn.shopify.com/s/files/1/0787/7015/files/FUNBOY-Cabana-Bali-Lounger_1_1600x.jpg?v=1565578403 - as ./images/people_in_swim_tube/bb4fe54e94.jpg\n",
      "SUCCESS - saved https://encrypted-tbn0.gstatic.com/images?q=tbn%3AANd9GcSpnaZP7jRt1_7Mp506IM7g0Tad9fO_cCuatyRvUETVeY0sfnox - as ./images/people_in_swim_tube/427fb0b795.jpg\n",
      "SUCCESS - saved https://encrypted-tbn0.gstatic.com/images?q=tbn%3AANd9GcQzycLIWc2pgSio0dPqOr_P-vE0eI7adNMH_SFO0DNglNpUI7uZ - as ./images/people_in_swim_tube/e68576e6b2.jpg\n",
      "SUCCESS - saved https://i5.walmartimages.com/asr/302bcfea-e816-4772-93db-e4a3254109c7_1.34280310aed740e0c95db166842a2e41.jpeg?odnWidth=450&odnHeight=450&odnBg=ffffff - as ./images/people_in_swim_tube/36e735a905.jpg\n",
      "SUCCESS - saved https://fscomps.fotosearch.com/compc/SPS/SPS007/people-swim-pool-couple-swimming-stock-photo__1406r-109.jpg - as ./images/people_in_swim_tube/698c97c7fd.jpg\n",
      "SUCCESS - saved https://www.tubehaus.com/images/KaishaTubingOnTheHorseshoeLoop.jpg - as ./images/people_in_swim_tube/64f3c74474.jpg\n",
      "SUCCESS - saved https://previews.123rf.com/images/bbtreesubmission/bbtreesubmission1709/bbtreesubmission170918016/87238778-asian-happy-couple-in-swim-wear-enjoying-with-tube-in-pool.jpg - as ./images/people_in_swim_tube/cd1693297b.jpg\n",
      "SUCCESS - saved https://hips.hearstapps.com/hmg-prod.s3.amazonaws.com/images/pool-float-peacock-1520603296.jpeg?crop=1xw:1xh;center,top&resize=480:* - as ./images/people_in_swim_tube/8399d1a0c9.jpg\n",
      "SUCCESS - saved https://res.cloudinary.com/twenty20/private_images/t_watermark-criss-cross-10/v1550506433000/photosp/19bc6568-2c3b-4cde-9bc5-72a97e431ed0/stock-photo-sun-people-sea-sunset-beach-summer-evening-holiday-sunsetsky-19bc6568-2c3b-4cde-9bc5-72a97e431ed0.jpg - as ./images/people_in_swim_tube/1a709bf91a.jpg\n",
      "SUCCESS - saved https://ak1.ostkcdn.com/images/products/is/images/direct/73eb42d4df74e034a3de75a4407a2eac198e859e/Inflatable-Orange-and-Blue-Snail-Swim-Ring-Tube-Pool-Float%2C-24-Inch.jpg - as ./images/people_in_swim_tube/0f64eda3d1.jpg\n",
      "SUCCESS - saved https://encrypted-tbn0.gstatic.com/images?q=tbn%3AANd9GcSSx3wCU8BZZQgw2eUlZdGYXyj3Ng-Rm_rmnl_ccietu0HYk0xH - as ./images/people_in_swim_tube/2ad2c1e07b.jpg\n",
      "SUCCESS - saved https://encrypted-tbn0.gstatic.com/images?q=tbn%3AANd9GcQlIEwOHC7rrqZ-1csP09EKH3057U4CutMtce7N7m9Fcivk3QH2 - as ./images/people_in_swim_tube/0dc7d55839.jpg\n",
      "SUCCESS - saved https://encrypted-tbn0.gstatic.com/images?q=tbn%3AANd9GcSboyiTE3KM4Mqi_zxpIIru-079yhtdpxdw_QKDyqvE2OkzDEzI - as ./images/people_in_swim_tube/9d78c6daa9.jpg\n",
      "SUCCESS - saved https://i.ytimg.com/vi/cyU144TGCUk/maxresdefault.jpg - as ./images/people_in_swim_tube/39707cee79.jpg\n",
      "SUCCESS - saved https://i.stpost.com/free-people-helen-rib-tube-skirt-for-women-in-midnight-swim~p~840fv_03~1500.2.jpg - as ./images/people_in_swim_tube/d92dc1c9c6.jpg\n",
      "SUCCESS - saved https://encrypted-tbn0.gstatic.com/images?q=tbn%3AANd9GcTJuy0Bb1gx_fTD_rlyJDoiWm4zWO6ozS8wkYnn82XY8D6qfgK7 - as ./images/people_in_swim_tube/3f7c30f663.jpg\n"
     ]
    },
    {
     "name": "stdout",
     "output_type": "stream",
     "text": [
      "SUCCESS - saved https://images.prod.meredith.com/product/c1b4bf4c2c0bb639c1682facf0d4d7f8/1536556495080/l/swimschool-deluxe-tot-trainer-fabric-swim-training-aid-safety-strap-inflatable-tube-2-4-years-yellow - as ./images/people_in_swim_tube/e1bbc52cd8.jpg\n",
      "SUCCESS - saved https://encrypted-tbn0.gstatic.com/images?q=tbn%3AANd9GcQWE_VRqAcDsXHKRwy34ChmV-Hy9iGAts8sptY4pXqzaM-7t36s - as ./images/people_in_swim_tube/c87389d685.jpg\n",
      "SUCCESS - saved https://encrypted-tbn0.gstatic.com/images?q=tbn%3AANd9GcRjyr7YIpphaiT0axdpelFlCodBX9gDdw4-WJDGo0NfWcav-fx5 - as ./images/people_in_swim_tube/851a89127c.jpg\n",
      "SUCCESS - saved https://encrypted-tbn0.gstatic.com/images?q=tbn%3AANd9GcRCwLxDYML1y4p-8NFkNrpfjdVmSNNUlzjGgBCtPiqwoSokFqhl - as ./images/people_in_swim_tube/c3eec66299.jpg\n",
      "SUCCESS - saved https://encrypted-tbn0.gstatic.com/images?q=tbn%3AANd9GcTbsylH-fz61AC5SzSdPuPcXIyUy7kmumAE1K7X_Ac0cwvtAIIB - as ./images/people_in_swim_tube/c641dcb916.jpg\n",
      "SUCCESS - saved https://encrypted-tbn0.gstatic.com/images?q=tbn%3AANd9GcTKuQ99nqlb0WeNmIJDieB5aqwRruHD_wveN3aw-WwlxQ77VZEZ - as ./images/people_in_swim_tube/f6305f2174.jpg\n",
      "SUCCESS - saved https://www.cdc.gov/healthywater/swimming/images/HSS-2019-MMWR-banner.jpg - as ./images/people_in_swim_tube/6f855a20d6.jpg\n",
      "SUCCESS - saved https://image1.masterfile.com/getImage/NjExOC0wNzM1MTkyOWVuLjAwMDAwMDAw=AIk7kL/6118-07351929en_Masterfile.jpg - as ./images/people_in_swim_tube/dd104b8e26.jpg\n"
     ]
    }
   ],
   "source": [
    "search_term = 'people in swim tube'\n",
    "search_and_download(search_term = search_term, driver_path=DRIVER_PATH)"
   ]
  },
  {
   "cell_type": "code",
   "execution_count": 7,
   "metadata": {
    "ExecuteTime": {
     "end_time": "2020-03-09T23:49:10.231841Z",
     "start_time": "2020-03-09T23:47:22.144116Z"
    }
   },
   "outputs": [
    {
     "name": "stdout",
     "output_type": "stream",
     "text": [
      "Found: 100 search results. Extracting links from 0:100\n",
      "Found: 150 image links, done!\n",
      "SUCCESS - saved https://sc02.alicdn.com/kf/HTB111TgkP3z9KJjy0Fmq6xiwXXaP/200198882/HTB111TgkP3z9KJjy0Fmq6xiwXXaP.jpg - as ./images/swimming_inner_tube/6b83fa4159.jpg\n",
      "SUCCESS - saved https://encrypted-tbn0.gstatic.com/images?q=tbn%3AANd9GcTPAaNZRCvxkL1A57_x7evCbJ7M7coUAcoBlPAA5-ZOD2HovbXp - as ./images/swimming_inner_tube/63cff4da18.jpg\n",
      "SUCCESS - saved https://m.media-amazon.com/images/I/71LDwPhTwyL._SR500,500_.jpg - as ./images/swimming_inner_tube/7d0b3cfa64.jpg\n",
      "SUCCESS - saved https://ak1.ostkcdn.com/images/products/is/images/direct/6b22eb69da765230f2e8c07f5213f19149824dc4/52%22-Chill-Red-and-White-Inflatable-Swimming-Pool-Inner-Tube-Float.jpg - as ./images/swimming_inner_tube/3a2108ed6a.jpg\n",
      "SUCCESS - saved https://encrypted-tbn0.gstatic.com/images?q=tbn%3AANd9GcRoHiASErtGXE7aoJJsBPYfEo1FXVErZ4T_FJwpw-wtdmMj1BsX - as ./images/swimming_inner_tube/453a556d34.jpg\n",
      "SUCCESS - saved https://encrypted-tbn0.gstatic.com/images?q=tbn%3AANd9GcTAlgBRSU4YTuVEiGa4H7SKqxvwPDJbniFwi3NZ1kpZZ9vo8zx0 - as ./images/swimming_inner_tube/61ce95291b.jpg\n",
      "SUCCESS - saved https://encrypted-tbn0.gstatic.com/images?q=tbn%3AANd9GcQjNgO1ed0kbwBLGrv_2jTraaHdUFpQqQtorjmwBPtV2Sc_ETge - as ./images/swimming_inner_tube/1587931b5c.jpg\n",
      "SUCCESS - saved https://sc02.alicdn.com/kf/HTB1hN8peYorBKNjSZFjq6A_SpXaZ/PVC-Material-Inflatable-Swan-huge-floats-for.jpg_350x350.jpg - as ./images/swimming_inner_tube/c587b71e11.jpg\n",
      "SUCCESS - saved https://ae01.alicdn.com/kf/HTB1lLkIc.GF3KVjSZFmq6zqPXXaW/Giant-Inflatable-Pineapple-Pool-Float-Summer-Swimming-Ring-Pool-Float-Inner-Tube-Outdoor-Beach-Party-Play.jpg - as ./images/swimming_inner_tube/8a7aaa29c0.jpg\n",
      "SUCCESS - saved https://ae01.alicdn.com/kf/HTB1iPf3RVXXXXb2XpXXq6xXFXXXR/Kids-inflatable-innertube-with-soft-fabric-vest-Swim-Training-Yellow-Toddler.jpg - as ./images/swimming_inner_tube/c5ee51e1f2.jpg\n",
      "SUCCESS - saved https://encrypted-tbn0.gstatic.com/images?q=tbn%3AANd9GcQZ6peV0eOwWZJSU7OXjdKXV1iXCU2CCKO10Aw5BzD--ycYBr5I - as ./images/swimming_inner_tube/e9c91cce7d.jpg\n",
      "SUCCESS - saved https://images-na.ssl-images-amazon.com/images/I/8178YoYc%2BwL._AC_SL1500_.jpg - as ./images/swimming_inner_tube/cd739c45ec.jpg\n",
      "SUCCESS - saved https://encrypted-tbn0.gstatic.com/images?q=tbn%3AANd9GcRJbY4kD9tcguqQVYx35Z9JZbFBrmKNze64EAQ4-Z1EapZ34NoG - as ./images/swimming_inner_tube/9d6a7005c1.jpg\n",
      "SUCCESS - saved https://previews.123rf.com/images/mariakraynova/mariakraynova1903/mariakraynova190300086/121418633-swimming-pool-yellow-inner-tube-i-pool.jpg - as ./images/swimming_inner_tube/cd08a0cec6.jpg\n",
      "SUCCESS - saved https://fscomps.fotosearch.com/compc/FSD/FSD712/inner-tube-floating-in-swimming-pool-stock-image__x75672550.jpg - as ./images/swimming_inner_tube/fe1639355e.jpg\n",
      "SUCCESS - saved https://c8.alamy.com/comp/BR88DJ/white-teen-male-boy-swim-inner-tube-pool-fun-laugh-play-shirtless-BR88DJ.jpg - as ./images/swimming_inner_tube/ff1686fdb0.jpg\n",
      "SUCCESS - saved https://encrypted-tbn0.gstatic.com/images?q=tbn%3AANd9GcTbxR4MwBFoVHN_bHM8qnfAgry5r1un-isYBxtBw8hvP_8tAHhH - as ./images/swimming_inner_tube/f0c432611e.jpg\n",
      "SUCCESS - saved https://images.homedepot-static.com/productImages/4a200b69-c4a6-4402-9b9c-8c1e61fdd26b/svn/yellow-pool-central-pool-floats-32148726-64_1000.jpg - as ./images/swimming_inner_tube/1fd47fa6e8.jpg\n",
      "SUCCESS - saved https://encrypted-tbn0.gstatic.com/images?q=tbn%3AANd9GcR_MyaI0nMwaxZZ4qb4mA5_Hfv5t7BK1P-n5MoR-HjiwwDARq_i - as ./images/swimming_inner_tube/c8790c75d7.jpg\n",
      "SUCCESS - saved https://thumbs.dreamstime.com/z/inflatable-swimming-pool-inner-tube-1150518.jpg - as ./images/swimming_inner_tube/3309de2954.jpg\n",
      "SUCCESS - saved https://encrypted-tbn0.gstatic.com/images?q=tbn%3AANd9GcSMcdYyKQk7mW8ab_xcB6rVFXFsPVeAwoaMQ2vyTZIN-PNEz9zt - as ./images/swimming_inner_tube/3e1bc20429.jpg\n",
      "SUCCESS - saved https://marketplace.canva.com/MAC8KRJaj00/1/screen_2x/canva-woman-floating-in-inner-tube-in-swimming-pool-MAC8KRJaj00.jpg - as ./images/swimming_inner_tube/e56833a516.jpg\n",
      "SUCCESS - saved https://i.pinimg.com/474x/d1/fe/fe/d1fefe71a3a9d06dbda288e60100f8f1.jpg - as ./images/swimming_inner_tube/87a923cdd7.jpg\n",
      "SUCCESS - saved https://media-cdn.tripadvisor.com/media/photo-s/16/6e/d6/8e/inner-tubes-for-swimming.jpg - as ./images/swimming_inner_tube/4cb15f0ede.jpg\n",
      "SUCCESS - saved https://encrypted-tbn0.gstatic.com/images?q=tbn%3AANd9GcRqc3TfuYqtG7oF3nlzs3bLl3wZKcjQj8OgtEBWsCNzOukAV6u1 - as ./images/swimming_inner_tube/1996975924.jpg\n",
      "SUCCESS - saved https://recreation.sa.ucsb.edu/images/default-source/rec-sports-photos/intramural-sports/water-polo-inner-tube.jpg?sfvrsn=38f36274_2 - as ./images/swimming_inner_tube/193c430763.jpg\n",
      "SUCCESS - saved https://encrypted-tbn0.gstatic.com/images?q=tbn%3AANd9GcRYga1CoOhK57TNKkQKDErCHRprpYhX2Ee6-ix8n2XqR8iEOI_3 - as ./images/swimming_inner_tube/38915bc7ca.jpg\n",
      "SUCCESS - saved https://encrypted-tbn0.gstatic.com/images?q=tbn%3AANd9GcTUJzeT5-4ObX8Ejq1cZu2hte_xX6NrOry3GvejKAr_icZaewvw - as ./images/swimming_inner_tube/f0df6d47b5.jpg\n",
      "SUCCESS - saved https://image1.masterfile.com/getImage/700-00047429em-group-of-teenagers-with-inner-tubes-in-swimming-pool-stock-photo.jpg - as ./images/swimming_inner_tube/79265d50b9.jpg\n",
      "SUCCESS - saved https://encrypted-tbn0.gstatic.com/images?q=tbn%3AANd9GcSGjocvJLGIjH9mMtoJuILcH8x_e1gSVqP_JD8Exttc5touSGMu - as ./images/swimming_inner_tube/e2234eab1b.jpg\n",
      "SUCCESS - saved https://encrypted-tbn0.gstatic.com/images?q=tbn%3AANd9GcTSA5dLM644h4xzmafCii6fKdiPLhqlNVTgcgcuvYcHa_c8tO61 - as ./images/swimming_inner_tube/10f6517f68.jpg\n",
      "SUCCESS - saved https://encrypted-tbn0.gstatic.com/images?q=tbn%3AANd9GcSajQu45tXpEmuCRk8JO2qgmbL6314RtLk5vFyPitqZDlSwqwq_ - as ./images/swimming_inner_tube/6444f5d028.jpg\n",
      "SUCCESS - saved https://i.ebayimg.com/images/g/tDYAAOSwvBBZ3zEV/s-l300.jpg - as ./images/swimming_inner_tube/8e68e975d9.jpg\n",
      "SUCCESS - saved https://images.mediabakery.com/DSP/LEP/DSP0135388-preview-logo-watermarked.jpg - as ./images/swimming_inner_tube/335c25336c.jpg\n",
      "SUCCESS - saved https://bloximages.newyork1.vip.townnews.com/williamsonhomepage.com/content/tncms/assets/v3/editorial/9/2a/92acbfb1-77a5-548e-aa55-b8d647da8530/5d925bc59445e.image.jpg?resize=400%2C372 - as ./images/swimming_inner_tube/978e64ece6.jpg\n",
      "SUCCESS - saved https://encrypted-tbn0.gstatic.com/images?q=tbn%3AANd9GcSced0Y85D1Ismexst9F-eiBv-SHPCx5Bwe_S8xMqCVqqP4eBTR - as ./images/swimming_inner_tube/0f25e90b59.jpg\n",
      "SUCCESS - saved https://encrypted-tbn0.gstatic.com/images?q=tbn%3AANd9GcTve9HcjwXlnsTycjxUsQCzZ6tftk1oovDXqgKg-n37a-V3IvzL - as ./images/swimming_inner_tube/32b443c6fd.jpg\n",
      "SUCCESS - saved https://encrypted-tbn0.gstatic.com/images?q=tbn%3AANd9GcTNUzVN5mvlzQgI3hrpxhMiLXF7qQeKClWAWACTZC1L9iUHcvMn - as ./images/swimming_inner_tube/8725633569.jpg\n",
      "SUCCESS - saved https://encrypted-tbn0.gstatic.com/images?q=tbn%3AANd9GcRcREjKT456VrqaNwHyBhk55F2BU3EqaCfVnnB3hk1zoQc42DU8 - as ./images/swimming_inner_tube/26ce3719da.jpg\n",
      "SUCCESS - saved https://thumbs.dreamstime.com/b/swimming-pool-inner-tube-inflatable-yellow-floating-clear-blue-waters-41104913.jpg - as ./images/swimming_inner_tube/c0b5747ce6.jpg\n",
      "SUCCESS - saved https://m.media-amazon.com/images/S/aplus-seller-content-images-us-east-1/ATVPDKIKX0DER/A177VW8Y87PDJZ/ce8fed02-67b1-4fc9-a132-c07a99a73b49._CR0,0,970,600_PT0_SX970__.jpg - as ./images/swimming_inner_tube/c4e169240e.jpg\n",
      "SUCCESS - saved https://encrypted-tbn0.gstatic.com/images?q=tbn%3AANd9GcRTOTlM0t1RidfdIy5qNeECIpM1ChDG2j1vms4Z1AeUGFmzuFck - as ./images/swimming_inner_tube/3e10756e13.jpg\n",
      "SUCCESS - saved https://encrypted-tbn0.gstatic.com/images?q=tbn%3AANd9GcRn6kFFkCq_SD7XR9am3NGEI_BgTU_nvVANwa_8t7zooftd6Rhq - as ./images/swimming_inner_tube/cd82a05d91.jpg\n",
      "SUCCESS - saved https://static3.bigstockphoto.com/5/3/1/large1500/135095.jpg - as ./images/swimming_inner_tube/e313320e3d.jpg\n",
      "SUCCESS - saved https://media.istockphoto.com/photos/pink-inner-tube-in-swimming-pool-picture-id173904044 - as ./images/swimming_inner_tube/71088b3e2f.jpg\n",
      "SUCCESS - saved https://encrypted-tbn0.gstatic.com/images?q=tbn%3AANd9GcR7LQoQCZ1QFrk9Vyk-ZIxhs6JgCCRFCtc7tg5rqtUAlSBoTwaz - as ./images/swimming_inner_tube/bd31f69c93.jpg\n",
      "SUCCESS - saved https://encrypted-tbn0.gstatic.com/images?q=tbn%3AANd9GcQsS3U00coJX7nqcMdY1yHj2CjGyVpp3VJNlmUkxDlquvFkDu5G - as ./images/swimming_inner_tube/ddc845eac0.jpg\n",
      "SUCCESS - saved https://encrypted-tbn0.gstatic.com/images?q=tbn%3AANd9GcRbXndDHBkzp0R3X3-ns7jFC_QJniCjz_Zh5rQ54CZK_77USz7q - as ./images/swimming_inner_tube/73086721a5.jpg\n"
     ]
    },
    {
     "name": "stdout",
     "output_type": "stream",
     "text": [
      "SUCCESS - saved https://marketplace.canva.com/MABoiGevmvM/1/screen_2x/canva-sexual-young-woman-floating-in-inner-tube-in-swimming-pool-MABoiGevmvM.jpg - as ./images/swimming_inner_tube/dcb0714b3e.jpg\n",
      "SUCCESS - saved https://encrypted-tbn0.gstatic.com/images?q=tbn%3AANd9GcQvwmFJNvMsPF_zXRVbze5AN2mp4oZzILxzDrDF09-BTtdpji4y - as ./images/swimming_inner_tube/f99585218a.jpg\n",
      "SUCCESS - saved https://encrypted-tbn0.gstatic.com/images?q=tbn%3AANd9GcRNH8_LZfitH93wS9wVDkVscRS4J_PuRT_zn3UnWBsxVvDn3jZp - as ./images/swimming_inner_tube/ecda88cd87.jpg\n",
      "SUCCESS - saved https://encrypted-tbn0.gstatic.com/images?q=tbn%3AANd9GcRRQxlDPoUNvS8iSA9K5lp9987R_Rb4dc_a7QH8OdPLioEwlaVr - as ./images/swimming_inner_tube/1ea24d27e1.jpg\n",
      "SUCCESS - saved https://encrypted-tbn0.gstatic.com/images?q=tbn%3AANd9GcSBwJlWYh9hrRQk3gd_rIxODetiwcMYkXiCnJ-w_Ay7NNi0MVgR - as ./images/swimming_inner_tube/126ef2d3bb.jpg\n",
      "SUCCESS - saved https://encrypted-tbn0.gstatic.com/images?q=tbn%3AANd9GcQ3dfReJ9z6Kx4TyemDXSEKT8GAFYdlEwVQQWJuzXMWeKk44SJi - as ./images/swimming_inner_tube/43deb1564f.jpg\n",
      "SUCCESS - saved https://sc02.alicdn.com/kf/HTB1zSTxpXOWBuNjy0Fiq6xFxVXaI/Swimming-Tube-Truck-Inner-Tubes-for-Swimming.jpg - as ./images/swimming_inner_tube/42f3994f71.jpg\n",
      "SUCCESS - saved https://encrypted-tbn0.gstatic.com/images?q=tbn%3AANd9GcTd2VAG8hTeFBcqdZnOMqxDZz5kT71iwtwZ6VY6s16kPDf76oMr - as ./images/swimming_inner_tube/7b9c8aa5a8.jpg\n",
      "SUCCESS - saved https://lh3.googleusercontent.com/proxy/IMh4Anq3KMil5sMYBkrP12wcl3hYTFbsJ8E4DT4HcnuovSvF_SPQnI4iOWJ22pDyV5h2rhl8fkr3t3V_mAfE1yZbx48bfFI6lKGycazGkXpevr_GFT-CGAXaFCjKB1fBR4Y5P50HffG-jted-WiW6TDIjxGfababd98AAkso949N-3g_F4l9Zucuw58Maw1omXZvNGT-h1ZpI0vcScYfPx1GERZlumJgZ41ePGxDkgycCWb93B8OS_9YDIrSsLmGWM76vHl6IqsQ4biy6oxp_dTjyQiCeVqhgModmerf7keGhc5I7Q - as ./images/swimming_inner_tube/a8e2f20e34.jpg\n",
      "SUCCESS - saved https://encrypted-tbn0.gstatic.com/images?q=tbn%3AANd9GcQN1kKzh0XRk6gidzHLtCIy7ffQRop5ZSqbvfBnODyp5bQCeaQ4 - as ./images/swimming_inner_tube/1518f3c5ec.jpg\n",
      "SUCCESS - saved https://encrypted-tbn0.gstatic.com/images?q=tbn%3AANd9GcRf8Rt-8xNLqR9L7coibFNYBi8SvrvXWCcI9tXlvv6A_4U0wCQu - as ./images/swimming_inner_tube/ddb9d78a67.jpg\n",
      "SUCCESS - saved https://image.shutterstock.com/image-photo/boy-swimming-pool-on-inner-600w-276315080.jpg - as ./images/swimming_inner_tube/ed0a7b2f4b.jpg\n",
      "SUCCESS - saved https://previews.123rf.com/images/epicstockmedia/epicstockmedia1412/epicstockmedia141200049/34688434-young-kid-having-fun-in-the-swimming-pool-on-inner-tube-raft-summer-vacation-fun-.jpg - as ./images/swimming_inner_tube/1561b13e78.jpg\n",
      "SUCCESS - saved https://cdn8.dissolve.com/p/17A232_101/17A232_101_0004_600.jpg - as ./images/swimming_inner_tube/727a6abb0c.jpg\n",
      "SUCCESS - saved https://c.stocksy.com/a/mvW400/z9/1079902.jpg?1575528631 - as ./images/swimming_inner_tube/d7c5cbadd1.jpg\n",
      "SUCCESS - saved https://previews.agefotostock.com/previewimage/medibigoff/517ffeaa9663c16d839cf6f34d4676dd/esy-024092120.jpg - as ./images/swimming_inner_tube/e7fad9d1e6.jpg\n",
      "SUCCESS - saved https://c.shld.net/rpx/i/s/pi/mp/10306534/prod_16155073736?src=https%3A%2F%2Fi.ebayimg.com%2Fimages%2Fg%2Fp-QAAOSwOEVdfajc%2Fs-l1600.jpg&d=8cc91ddeafc422bb917dc027769692754daeabe7&hei=333&wid=333&op_sharpen=1 - as ./images/swimming_inner_tube/6b4885b7ef.jpg\n",
      "SUCCESS - saved https://c1.neweggimages.com/ProductImage/A7DU_1_201906201954104973.jpg - as ./images/swimming_inner_tube/250396478f.jpg\n",
      "SUCCESS - saved https://encrypted-tbn0.gstatic.com/images?q=tbn%3AANd9GcRe61OxAtJ-fw5VLAmnrUOIsjo5-YVgrhHuNXsWiuW_8x7PBVa0 - as ./images/swimming_inner_tube/f70b0f128f.jpg\n",
      "SUCCESS - saved https://media.istockphoto.com/photos/swimming-pool-inner-tube-picture-id497976111?k=6&m=497976111&s=612x612&w=0&h=uTdmIR0DYArZ72HqPKMa2ejru0a0mOeT8_ZCmeYIAEs= - as ./images/swimming_inner_tube/bde6b5e880.jpg\n",
      "SUCCESS - saved https://encrypted-tbn0.gstatic.com/images?q=tbn%3AANd9GcTyskk36hnCEmv99kvZHe2ljX3pCxNkzPkdwpLY4oLlXG9k4zZ0 - as ./images/swimming_inner_tube/75406393e9.jpg\n",
      "SUCCESS - saved https://images-na.ssl-images-amazon.com/images/I/61xnxMQ%2BkXL._AC_SX425_.jpg - as ./images/swimming_inner_tube/d97194e7bd.jpg\n",
      "SUCCESS - saved https://encrypted-tbn0.gstatic.com/images?q=tbn%3AANd9GcTppw6cRWAOg66zv3PKtArvGc1mZUb3TVnFK1yPlRvdILd8GD9l - as ./images/swimming_inner_tube/671a7c3711.jpg\n",
      "SUCCESS - saved https://cdn9.dissolve.com/p/D524_1_011/D524_1_011_0004_600.jpg - as ./images/swimming_inner_tube/31501fdd98.jpg\n",
      "SUCCESS - saved https://i5.walmartimages.com/asr/beba81b0-cb55-4371-bce2-4e4e62d662a2_1.8f3cc748e0613f459397f0774fcff735.jpeg?odnWidth=450&odnHeight=450&odnBg=ffffff - as ./images/swimming_inner_tube/01ff516b35.jpg\n",
      "SUCCESS - saved https://encrypted-tbn0.gstatic.com/images?q=tbn%3AANd9GcTz4ytDJTD13M6OwCsCVetdEbBpLK5tCaPuGGoJeMnMeHhKT5Gb - as ./images/swimming_inner_tube/ed704a50c0.jpg\n",
      "SUCCESS - saved https://fscomps.fotosearch.com/compc/CSK/CSK467/inner-tube-in-swimming-pool-stock-photography__ks128195.jpg - as ./images/swimming_inner_tube/29eb698da2.jpg\n",
      "SUCCESS - saved https://m.media-amazon.com/images/S/aplus-media/vc/1a2527db-9e33-4be5-b183-d600293bfa60.__CR402,0,750,1000_PT0_SX300_V1___.jpg - as ./images/swimming_inner_tube/aaf174aa17.jpg\n",
      "SUCCESS - saved https://previews.123rf.com/images/tribalium123/tribalium1231507/tribalium123150700037/47647968-inflatable-inner-tube-floater-swimming-tire-floating-tire-inflatable-round-pool-tube.jpg - as ./images/swimming_inner_tube/328eb58c1b.jpg\n",
      "SUCCESS - saved https://encrypted-tbn0.gstatic.com/images?q=tbn%3AANd9GcSiv36f2h1dv5Wqlwf6UQY-Yk64sHbkzWZnsZalFZUrlee5CpqL - as ./images/swimming_inner_tube/21f2ec1019.jpg\n",
      "SUCCESS - saved https://image.shutterstock.com/image-photo/boy-swimming-pool-on-inner-600w-276315074.jpg - as ./images/swimming_inner_tube/bb58975c7a.jpg\n",
      "SUCCESS - saved https://encrypted-tbn0.gstatic.com/images?q=tbn%3AANd9GcQlDMIhBll1EOrh3eDbsj-SqMG1yqH-yfrVxJba-CgnQRP_NaAb - as ./images/swimming_inner_tube/bd29b44039.jpg\n",
      "SUCCESS - saved https://encrypted-tbn0.gstatic.com/images?q=tbn%3AANd9GcT3tSfv5lg6O4tsHii1RIc8NfoY6rpT9Sz2KrQ-K-VNZndkLPuN - as ./images/swimming_inner_tube/d58231dca0.jpg\n",
      "SUCCESS - saved https://encrypted-tbn0.gstatic.com/images?q=tbn%3AANd9GcR2tqHXjod5YMjQ7PoOUozLorB-rS2MLaV6EmuHDNUxgWRAQldC - as ./images/swimming_inner_tube/98d416d414.jpg\n",
      "SUCCESS - saved https://encrypted-tbn0.gstatic.com/images?q=tbn%3AANd9GcTlBaXqnmqiUEnP5bGoGZS3iEgiPKXRmmbfMH5Msz31qajM5VU4 - as ./images/swimming_inner_tube/e4535df1d0.jpg\n",
      "SUCCESS - saved https://www.recreonics.com/wp-content/uploads/2016/08/94-095-riverrough-tube-swimming-pool-float-600x600.png - as ./images/swimming_inner_tube/2f0026c9e9.jpg\n",
      "SUCCESS - saved https://comps.canstockphoto.com/inflatable-inner-tube-eps-vector_csp28636949.jpg - as ./images/swimming_inner_tube/aba3f0af5d.jpg\n",
      "SUCCESS - saved https://encrypted-tbn0.gstatic.com/images?q=tbn%3AANd9GcTNsbFP4KSY-kkqinzqUdPlrexM6XiqlWaeyuiJUFFdwg439raL - as ./images/swimming_inner_tube/bc4d2534b6.jpg\n",
      "SUCCESS - saved https://encrypted-tbn0.gstatic.com/images?q=tbn%3AANd9GcR9o15TixbuaKyJt0T9nr5gjqJ28wZuCzajjteJN4ytYH0Cq2sY - as ./images/swimming_inner_tube/f4f2118ba7.jpg\n",
      "SUCCESS - saved https://encrypted-tbn0.gstatic.com/images?q=tbn%3AANd9GcQTbME_mSjtzN_DUnDI4VL9prsOyhi9Edokj_Bkd5PWta64IvqE - as ./images/swimming_inner_tube/9ba001cedf.jpg\n",
      "SUCCESS - saved https://ak1.ostkcdn.com/images/products/is/images/direct/02543e34d9bc94594ab56d9c31073ecc0429cb2e/Inflatable-Pink-Neon-Frost-Swimming-Pool-Inner-Tube-with-Perimeter-Rope%2C-47-Inch.jpg?impolicy=medium - as ./images/swimming_inner_tube/d5eaa31771.jpg\n",
      "SUCCESS - saved https://encrypted-tbn0.gstatic.com/images?q=tbn%3AANd9GcR2sJD2Jk8vcbG4yah-uHTDx6nyJCpnfi6HfaopuR9Qv5spONrE - as ./images/swimming_inner_tube/a3ee2cd1e8.jpg\n",
      "SUCCESS - saved https://www.noveltygiant.com/v/vspfiles/photos/BMT-BMPF-CD-2.jpg - as ./images/swimming_inner_tube/8607d34b97.jpg\n",
      "SUCCESS - saved https://encrypted-tbn0.gstatic.com/images?q=tbn%3AANd9GcTa8xQ1w3AxIhI01mwSBylC207CDehpS6E7u9lRUW25ERJqXV04 - as ./images/swimming_inner_tube/2ba166be05.jpg\n",
      "SUCCESS - saved https://c8.alamy.com/comp/AAA3PY/young-girl-in-swimming-pool-using-inner-tube-AAA3PY.jpg - as ./images/swimming_inner_tube/49e8d33f49.jpg\n",
      "SUCCESS - saved https://media.gettyimages.com/photos/boy-with-inner-tube-in-swimming-pool-picture-id86520402 - as ./images/swimming_inner_tube/eb70d6b59e.jpg\n",
      "SUCCESS - saved https://encrypted-tbn0.gstatic.com/images?q=tbn%3AANd9GcQH8xvqCXJeqrWlCW8cf_sxVPqreGGsqoVuFBkrdC9gxtPX8fmK - as ./images/swimming_inner_tube/3893c87ed7.jpg\n",
      "SUCCESS - saved https://encrypted-tbn0.gstatic.com/images?q=tbn%3AANd9GcRs0JhcXDjlP3f2f8Ii_zv3nrE50KB84iGQaDgQzuz2LCyuW4to - as ./images/swimming_inner_tube/fc02edc44f.jpg\n"
     ]
    },
    {
     "name": "stdout",
     "output_type": "stream",
     "text": [
      "SUCCESS - saved https://encrypted-tbn0.gstatic.com/images?q=tbn%3AANd9GcSU_nGUcbYZ3b9cY4MbnyodvrU6BAG4VCvjhWmwKFF8NHYfYART - as ./images/swimming_inner_tube/1b5f2dee41.jpg\n",
      "SUCCESS - saved https://fscomps.fotosearch.com/compc/SPS/SPS007/people-swim-pool-couple-swimming-stock-photography__1417r-135.jpg - as ./images/swimming_inner_tube/bcc3841fcb.jpg\n",
      "SUCCESS - saved https://i5.walmartimages.com/asr/2314f00f-f834-4153-a870-b6f46eb5c7e5_1.f41b1031b62aceeac2ea1aa1466e8996.jpeg?odnWidth=450&odnHeight=450&odnBg=ffffff - as ./images/swimming_inner_tube/a74abf8e31.jpg\n",
      "SUCCESS - saved https://target.scene7.com/is/image/Target/GUEST_4c056d02-874f-41a5-b1f8-8adb506a1671?wid=488&hei=488&fmt=pjpeg - as ./images/swimming_inner_tube/6d3fd874ec.jpg\n",
      "SUCCESS - saved https://encrypted-tbn0.gstatic.com/images?q=tbn%3AANd9GcRvOwafzaIne_sIHvmaSe-F1755uYWKProS2zYy-mzw8RmwBfMe - as ./images/swimming_inner_tube/5f8e449f7f.jpg\n",
      "SUCCESS - saved https://ak1.ostkcdn.com/images/products/17958570/49-Jumbo-Chocolate-Frosted-Doughnut-Inflatable-Swimming-Pool-Inner-Tube-Ring-Float-brown-7b26906f-0aac-4597-86f0-ac764337e476_600.jpg?impolicy=medium - as ./images/swimming_inner_tube/4403cb244c.jpg\n",
      "SUCCESS - saved https://encrypted-tbn0.gstatic.com/images?q=tbn%3AANd9GcT8To4KKlC-cvvg9UDGkAupql8c_jTDGOnulrNMKbo1LWXmx647 - as ./images/swimming_inner_tube/259b790391.jpg\n",
      "SUCCESS - saved https://encrypted-tbn0.gstatic.com/images?q=tbn%3AANd9GcSZTyVaCeHl3rnR58GF1p3RrvyXJkObE5S9NYT2yjWU9DlU7W8w - as ./images/swimming_inner_tube/8725edd328.jpg\n",
      "SUCCESS - saved https://encrypted-tbn0.gstatic.com/images?q=tbn%3AANd9GcRhRKtAh8OMzC9EfNQYsaxs-R_I8SrgnC2w2Z79-hrDnzeAvoUo - as ./images/swimming_inner_tube/949f126fc8.jpg\n",
      "SUCCESS - saved https://encrypted-tbn0.gstatic.com/images?q=tbn%3AANd9GcQFBZd7-eKZjLDpJMK42VQNBHWJYenK0K0y_X_atvXAZ2JuOd60 - as ./images/swimming_inner_tube/c612a7b9e7.jpg\n",
      "SUCCESS - saved https://images.homedepot-static.com/productImages/ad1a9278-41f5-4185-8bab-c4c4df3ecb0d/svn/blue-pool-central-pool-floats-32041036-64_1000.jpg - as ./images/swimming_inner_tube/f9f928d9e9.jpg\n",
      "SUCCESS - saved https://motionarray.imgix.net/preview-77366-KxAZgN7LAJ-low_0003.jpg?w=660&q=60&fit=max&auto=format - as ./images/swimming_inner_tube/f7c169e3a6.jpg\n",
      "SUCCESS - saved https://encrypted-tbn0.gstatic.com/images?q=tbn%3AANd9GcRnTC5RxJGmR-hr3iHoRYmoiosnoASa3q8TxaoP7OA0STyLEmo2 - as ./images/swimming_inner_tube/61908047e4.jpg\n",
      "SUCCESS - saved https://encrypted-tbn0.gstatic.com/images?q=tbn%3AANd9GcT6zHR-qpQKM7NVchsE5wzN0dDivdbq-VMmWY-51bIGgASSDe6n - as ./images/swimming_inner_tube/c92d7afec4.jpg\n",
      "SUCCESS - saved https://encrypted-tbn0.gstatic.com/images?q=tbn%3AANd9GcSiVsD6YdQLFVM7gDzveuflHdaRttdqXJ201ptbGkZWBKKUtpQK - as ./images/swimming_inner_tube/11b2bc0ece.jpg\n",
      "SUCCESS - saved https://www.juliehoagwriter.com/wp-content/uploads/2018/06/DIY-Pool-Floaty-Toy-Made-with-Pool-Noodles-Swim-about-in-it-like-an-inner-tube-e1529529527134.jpg - as ./images/swimming_inner_tube/0f3a4c0d0e.jpg\n",
      "SUCCESS - saved https://encrypted-tbn0.gstatic.com/images?q=tbn%3AANd9GcRto-NKTDgE9au9-sUwdKjwGo-JYWzg8-CffhWE2bekzf3EYzUa - as ./images/swimming_inner_tube/2f8d7df2f4.jpg\n",
      "SUCCESS - saved https://cdn.shopify.com/s/files/1/1298/3583/products/51louIsSocL_300x300.jpg?v=1571320522 - as ./images/swimming_inner_tube/d592b0ddf8.jpg\n",
      "SUCCESS - saved https://marketplace.canva.com/MAC78IrOgnw/1/screen_2x/canva-woman-relaxing-in-inner-tube-in-swimming-pool-MAC78IrOgnw.jpg - as ./images/swimming_inner_tube/a71eda6316.jpg\n",
      "SUCCESS - saved https://encrypted-tbn0.gstatic.com/images?q=tbn%3AANd9GcTt_UdrAyKmW9_Rt8qS9w2cgT8pCyacnOiq96LLXuZSkeNnx_82 - as ./images/swimming_inner_tube/6c600c21b3.jpg\n",
      "SUCCESS - saved https://encrypted-tbn0.gstatic.com/images?q=tbn%3AANd9GcT-CnSAM1ShgJzffsCtiG9T1HHOlpMQCUQ34giT2iTDTKUro3zy - as ./images/swimming_inner_tube/b7f86f4ecd.jpg\n",
      "SUCCESS - saved https://encrypted-tbn0.gstatic.com/images?q=tbn%3AANd9GcT0jDp9yVEiriSsI3kLnyKuaGeBqP37ozBNtfBDJjKPJ7X8ii_T - as ./images/swimming_inner_tube/3bb5d98fcd.jpg\n",
      "SUCCESS - saved https://encrypted-tbn0.gstatic.com/images?q=tbn%3AANd9GcQPXLGoq30nVoYkThqPJA9yDBC2OyZCa-fi34pYx-pU_cszZMHx - as ./images/swimming_inner_tube/b037f14aea.jpg\n",
      "SUCCESS - saved https://images-na.ssl-images-amazon.com/images/I/71eyQjhcQzL._SX425_.jpg - as ./images/swimming_inner_tube/ed8b0764ce.jpg\n",
      "SUCCESS - saved https://cdn11.bigcommerce.com/s-km30nn7y/images/stencil/500x659/products/246749/828822/apietcws3__46476.1558362645.jpg?c=3 - as ./images/swimming_inner_tube/ce050fffae.jpg\n",
      "SUCCESS - saved https://encrypted-tbn0.gstatic.com/images?q=tbn%3AANd9GcTzTGbwnkOitCkU_HGSl0HR3nPN0uneEDBBSfVue2reHZbUqAMt - as ./images/swimming_inner_tube/c6f8332f7e.jpg\n",
      "SUCCESS - saved https://encrypted-tbn0.gstatic.com/images?q=tbn%3AANd9GcT1qReMamQ_DzOI3EJ4Fxjmib2sAnhZSY2q6UUndSmK5iS-u9KZ - as ./images/swimming_inner_tube/0b5467004f.jpg\n",
      "SUCCESS - saved https://encrypted-tbn0.gstatic.com/images?q=tbn%3AANd9GcR-0DUsYLhrEY2imPqjZYq5BuX6-HCYTINMUL2UIZxdjqaU5n71 - as ./images/swimming_inner_tube/170f9c26b7.jpg\n",
      "SUCCESS - saved https://encrypted-tbn0.gstatic.com/images?q=tbn%3AANd9GcRwRloVr-TZl_ZLYeGeomfxcGB5Z7o1sWM5VwFD8ZVzOPEEs1Pt - as ./images/swimming_inner_tube/a30c99e868.jpg\n",
      "SUCCESS - saved https://encrypted-tbn0.gstatic.com/images?q=tbn%3AANd9GcTZVC2ZyWG6e07OaHrvB38jzw2uF9KCj1F15vfN8shCTDDvL-lG - as ./images/swimming_inner_tube/c691c11c08.jpg\n",
      "SUCCESS - saved https://image.freepik.com/free-photo/swimming-pool-inner-tube_130111-16.jpg - as ./images/swimming_inner_tube/21226faa0b.jpg\n",
      "SUCCESS - saved https://c8.alamy.com/comp/EC1A84/young-kid-having-fun-in-the-swimming-pool-on-inner-tube-raft-summer-EC1A84.jpg - as ./images/swimming_inner_tube/05bfdc6b48.jpg\n",
      "SUCCESS - saved https://encrypted-tbn0.gstatic.com/images?q=tbn%3AANd9GcR0slY--xRL7R5vs4E4yTowuWyEnQRKv0C3TH1jNWWMQrJ2j1AD - as ./images/swimming_inner_tube/6d63518f1d.jpg\n",
      "SUCCESS - saved https://encrypted-tbn0.gstatic.com/images?q=tbn%3AANd9GcRIvmT5CjFAKtdnLHQKcnrMdIbyjU5HACMNs_7oXJPYzMlX0PB1 - as ./images/swimming_inner_tube/3cc275ff87.jpg\n",
      "SUCCESS - saved https://encrypted-tbn0.gstatic.com/images?q=tbn%3AANd9GcR2BJNccjPyELGXSXGToQ84kvMX3UuCAmBy9dZnHgwZc_uOE4Th - as ./images/swimming_inner_tube/be247a821e.jpg\n",
      "SUCCESS - saved https://encrypted-tbn0.gstatic.com/images?q=tbn%3AANd9GcTjMh62tR4E8z4LItkcf4ImXCqMIs6lnuoqhRkZZEFq4X9jal_T - as ./images/swimming_inner_tube/67ccf28bcb.jpg\n",
      "SUCCESS - saved https://image.shutterstock.com/display_pic_with_logo/548344/207553843/stock-vector-inflatable-inner-tube-floater-swimming-tire-207553843.jpg - as ./images/swimming_inner_tube/d335f01f78.jpg\n",
      "SUCCESS - saved https://c.stocksy.com/a/Sbx300/z9/944102.jpg - as ./images/swimming_inner_tube/26f271ac11.jpg\n",
      "SUCCESS - saved https://www.tireinnertube.com/559-home_default/large-42-rubber-swimming-sledding-tire-inner-tube-.jpg - as ./images/swimming_inner_tube/08a44f99b6.jpg\n",
      "SUCCESS - saved https://encrypted-tbn0.gstatic.com/images?q=tbn%3AANd9GcQKyVXC3vPpMRNM5enqejrO47W7Q2M7LJnbAdaLUdSkvggAHoSe - as ./images/swimming_inner_tube/5bcf429b65.jpg\n",
      "SUCCESS - saved https://c8.alamy.com/comp/EC1A8B/young-kid-having-fun-in-the-swimming-pool-on-inner-tube-raft-summer-EC1A8B.jpg - as ./images/swimming_inner_tube/3bba14e1f0.jpg\n",
      "SUCCESS - saved https://encrypted-tbn0.gstatic.com/images?q=tbn%3AANd9GcSXrECtkBIGY_xgH9RcLPrqRvQLTwhwfsxRFFmAdOPKXnMXJn8t - as ./images/swimming_inner_tube/93f69b3aad.jpg\n",
      "SUCCESS - saved https://encrypted-tbn0.gstatic.com/images?q=tbn%3AANd9GcTEQymvVv1Zm7uBEp7wWQX0p4KJYdsT6JvLIlQsWflP-iYGFEHr - as ./images/swimming_inner_tube/570111ba90.jpg\n",
      "SUCCESS - saved https://cdn11.bigcommerce.com/s-km30nn7y/images/stencil/500x659/products/373986/615442/apias3c2p__78315.1492122193.jpg?c=3 - as ./images/swimming_inner_tube/3da4430f3b.jpg\n",
      "SUCCESS - saved https://encrypted-tbn0.gstatic.com/images?q=tbn%3AANd9GcRlowahG_CLrFRrTnwFan5GNSBfdgSrIFbdBlg-6irSNEDzQt2v - as ./images/swimming_inner_tube/6ad3a87795.jpg\n",
      "SUCCESS - saved https://images.freeart.com/comp/art-print/fa19039136/man-swimming-in-water-with-tube.jpg?units=in&pw=10.0&ph=8.0&fit=False - as ./images/swimming_inner_tube/c9e4ca3228.jpg\n",
      "SUCCESS - saved https://encrypted-tbn0.gstatic.com/images?q=tbn%3AANd9GcRilLCWh5WXo79vrg_Hhh46Y0afzeew6c6_UqghUv-LtPofTdfk - as ./images/swimming_inner_tube/f56c008dd4.jpg\n",
      "SUCCESS - saved https://encrypted-tbn0.gstatic.com/images?q=tbn%3AANd9GcT9Qvp5ISufJf74J7bvegvaGioG0TwVfH6ZasTxOZX3TmUvN16k - as ./images/swimming_inner_tube/09b4a17717.jpg\n",
      "SUCCESS - saved https://encrypted-tbn0.gstatic.com/images?q=tbn%3AANd9GcQZ8ygD8eQLSPkKQKIelra4rIw8SMuPE3JYxjPxNyY-WBByM6Ga - as ./images/swimming_inner_tube/bb6cf1dd93.jpg\n"
     ]
    },
    {
     "name": "stdout",
     "output_type": "stream",
     "text": [
      "SUCCESS - saved https://encrypted-tbn0.gstatic.com/images?q=tbn%3AANd9GcQnXrwen0hRxN83t47uLP2ADGncQRubXawBtRY7q-YCHGLusmQ4 - as ./images/swimming_inner_tube/acbf1ad40b.jpg\n",
      "SUCCESS - saved https://encrypted-tbn0.gstatic.com/images?q=tbn%3AANd9GcRf81FojLuG-UM-Qg7YvisyVthMo099OJ1X6_umVUGAlKthWkqO - as ./images/swimming_inner_tube/5dfe0249fa.jpg\n",
      "SUCCESS - saved https://atthemanse.files.wordpress.com/2014/08/swimming-in-an-inner-tube.jpg - as ./images/swimming_inner_tube/1f5db5d503.jpg\n",
      "SUCCESS - saved https://images.assetsdelivery.com/compings_v2/epicstockmedia/epicstockmedia1412/epicstockmedia141200110.jpg - as ./images/swimming_inner_tube/fc775c0bf8.jpg\n",
      "SUCCESS - saved https://comps.canstockphoto.com/young-kid-having-fun-in-the-swimming-stock-photo_csp23689144.jpg - as ./images/swimming_inner_tube/30131915d8.jpg\n"
     ]
    }
   ],
   "source": [
    "search_term = 'swimming inner tube'\n",
    "search_and_download(search_term = search_term, driver_path=DRIVER_PATH)"
   ]
  },
  {
   "cell_type": "code",
   "execution_count": null,
   "metadata": {},
   "outputs": [],
   "source": []
  }
 ],
 "metadata": {
  "kernelspec": {
   "display_name": "Python [conda env:metis] *",
   "language": "python",
   "name": "conda-env-metis-py"
  },
  "language_info": {
   "codemirror_mode": {
    "name": "ipython",
    "version": 3
   },
   "file_extension": ".py",
   "mimetype": "text/x-python",
   "name": "python",
   "nbconvert_exporter": "python",
   "pygments_lexer": "ipython3",
   "version": "3.7.4"
  }
 },
 "nbformat": 4,
 "nbformat_minor": 2
}
